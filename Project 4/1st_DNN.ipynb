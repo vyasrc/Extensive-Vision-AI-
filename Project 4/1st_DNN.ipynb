{
  "nbformat": 4,
  "nbformat_minor": 0,
  "metadata": {
    "colab": {
      "name": "1st DNN.ipynb",
      "version": "0.3.2",
      "provenance": [],
      "collapsed_sections": []
    },
    "kernelspec": {
      "name": "python3",
      "display_name": "Python 3"
    },
    "accelerator": "GPU"
  },
  "cells": [
    {
      "cell_type": "markdown",
      "metadata": {
        "id": "aNyZv-Ec52ot",
        "colab_type": "text"
      },
      "source": [
        "# **Import Libraries and modules**"
      ]
    },
    {
      "cell_type": "markdown",
      "metadata": {
        "id": "pV_AbL_8T2ip",
        "colab_type": "text"
      },
      "source": [
        "In this first iteration,  i am trying to build a base vanilla model network , without any kind of augmentation, normalisation or optimization.  Here i will determine how much convolution layers i will use, where all i will put my Maxpooling layer/layers, 1x1 and 3x3 convolutions, calculate the receptive field of each and make it upto a point such that it will cover the size of object, and the initial number of kernels that i will use, positioning of transition layer in the network."
      ]
    },
    {
      "cell_type": "code",
      "metadata": {
        "id": "3m3w1Cw49Zkt",
        "colab_type": "code",
        "colab": {}
      },
      "source": [
        "# https://keras.io/\n",
        "!pip install -q keras\n",
        "import keras\n",
        "\n",
        "# Keras is a high-level neural networks API, written in Python and capable of running on top of TensorFlow, CNTK, or Theano. \n",
        "# It was developed with a focus on enabling fast experimentation. Being able to go from idea to result with the least possible \n",
        "# delay is key to doing good research."
      ],
      "execution_count": 0,
      "outputs": []
    },
    {
      "cell_type": "code",
      "metadata": {
        "id": "Eso6UHE080D4",
        "colab_type": "code",
        "colab": {}
      },
      "source": [
        "import numpy as np\n",
        "\n",
        "from keras.models import Sequential\n",
        "from keras.layers import Dense, Dropout, Activation, Flatten, Add\n",
        "from keras.layers import Convolution2D, MaxPooling2D\n",
        "from keras.utils import np_utils\n",
        "\n",
        "from keras.datasets import mnist\n",
        "\n",
        "# NumPy is a library for the Python programming language, adding support for large, multi-dimensional arrays and matrices,\n",
        "# along with a large collection of high-level mathematical functions to operate on these arrays.\n",
        "# Sequential - It creates a model that is a linear stack of layers.\n",
        "# Flatten - It flattens the input and also it does not affect the batch size.\n",
        "# Convolution2D - This actually performs the 2D convolution on the input vector and produce the convoluted output.\n",
        "# Dense - It implements the operation that is output i equal to activation(dot(input, kernel) + bias) where activation is the element-wise\n",
        "# activation function passed as the activation argument, kernel is a weights matrix created by the layer, \n",
        "# and bias is a bias vector created by the layer. \n",
        "# Dropout - It applies Dropout to the input. It consists of randomly setting a fraction rate of input units to 0 at each update during \n",
        "# training time, which helps prevent overfitting."
      ],
      "execution_count": 0,
      "outputs": []
    },
    {
      "cell_type": "markdown",
      "metadata": {
        "id": "zByEi95J86RD",
        "colab_type": "text"
      },
      "source": [
        "### Load pre-shuffled MNIST data into train and test sets"
      ]
    },
    {
      "cell_type": "code",
      "metadata": {
        "id": "7eRM0QWN83PV",
        "colab_type": "code",
        "colab": {}
      },
      "source": [
        "(X_train, y_train), (X_test, y_test) = mnist.load_data()\n",
        "\n",
        "# Loads the mnist training and testing data into respective variables."
      ],
      "execution_count": 0,
      "outputs": []
    },
    {
      "cell_type": "code",
      "metadata": {
        "id": "4a4Be72j8-ZC",
        "colab_type": "code",
        "outputId": "8d6b52c0-9d1c-4b47-9135-f07d0e0343e0",
        "colab": {
          "base_uri": "https://localhost:8080/",
          "height": 304
        }
      },
      "source": [
        "print (X_train.shape)\n",
        "from matplotlib import pyplot as plt\n",
        "%matplotlib inline\n",
        "plt.imshow(X_train[0])\n",
        "\n",
        "# Matplotlib is a Python 2D plotting library which produces publication quality figures \n",
        "# in a variety of hardcopy formats and interactive environments across platforms. \n",
        "# Here we use it to show an example of how an image in a mnist training data looks like."
      ],
      "execution_count": 8,
      "outputs": [
        {
          "output_type": "stream",
          "text": [
            "(60000, 28, 28)\n"
          ],
          "name": "stdout"
        },
        {
          "output_type": "execute_result",
          "data": {
            "text/plain": [
              "<matplotlib.image.AxesImage at 0x7fa81a597780>"
            ]
          },
          "metadata": {
            "tags": []
          },
          "execution_count": 8
        },
        {
          "output_type": "display_data",
          "data": {
            "image/png": "[encoded data removed]",
            "text/plain": [
              "<Figure size 432x288 with 1 Axes>"
            ]
          },
          "metadata": {
            "tags": []
          }
        }
      ]
    },
    {
      "cell_type": "code",
      "metadata": {
        "id": "dkmprriw9AnZ",
        "colab_type": "code",
        "colab": {}
      },
      "source": [
        "X_train = X_train.reshape(X_train.shape[0], 28, 28,1)\n",
        "X_test = X_test.reshape(X_test.shape[0], 28, 28,1)\n",
        "\n",
        "# numpy.reshape() gives a new shape to an array without changing its data.\n",
        "# Here it is done to indicate the the number of color channels , here it is 1 as it is a grayscale image.\n",
        "# If it was a RGB it will be changed to 3."
      ],
      "execution_count": 0,
      "outputs": []
    },
    {
      "cell_type": "code",
      "metadata": {
        "id": "X2m4YS4E9CRh",
        "colab_type": "code",
        "colab": {}
      },
      "source": [
        "X_train = X_train.astype('float32')\n",
        "X_test = X_test.astype('float32')\n",
        "X_train /= 255\n",
        "X_test /= 255\n",
        "\n",
        "# ndarray.astype() is used to cast a copy of the array to a specified type.\n",
        "# And we divide the whole training and testing data by 255 to normalise it to values between 0 and 1."
      ],
      "execution_count": 0,
      "outputs": []
    },
    {
      "cell_type": "code",
      "metadata": {
        "id": "0Mn0vAYD9DvB",
        "colab_type": "code",
        "outputId": "3338a22f-7821-449b-c5af-0235dc66c65d",
        "colab": {
          "base_uri": "https://localhost:8080/",
          "height": 35
        }
      },
      "source": [
        "y_train[:10]\n",
        "\n",
        "# Here we print the training outputs to check whether all 10 distinct outputs are there or not."
      ],
      "execution_count": 11,
      "outputs": [
        {
          "output_type": "execute_result",
          "data": {
            "text/plain": [
              "array([5, 0, 4, 1, 9, 2, 1, 3, 1, 4], dtype=uint8)"
            ]
          },
          "metadata": {
            "tags": []
          },
          "execution_count": 11
        }
      ]
    },
    {
      "cell_type": "code",
      "metadata": {
        "id": "ZG8JiXR39FHC",
        "colab_type": "code",
        "colab": {}
      },
      "source": [
        "# Convert 1-dimensional class arrays to 10-dimensional class matrices\n",
        "Y_train = np_utils.to_categorical(y_train, 10)\n",
        "Y_test = np_utils.to_categorical(y_test, 10)\n",
        "\n",
        "# to_categorical - Converts a class vector (integers) to binary class matrix.\n",
        "# It returns binary matrix representation of the input, where the bit corresponding to each class number wiil be 1 and \n",
        "# everything else is 0."
      ],
      "execution_count": 0,
      "outputs": []
    },
    {
      "cell_type": "code",
      "metadata": {
        "id": "fYlFRvKS9HMB",
        "colab_type": "code",
        "outputId": "c9c129df-c6b0-4f21-d17a-63b8ffb76c5f",
        "colab": {
          "base_uri": "https://localhost:8080/",
          "height": 191
        }
      },
      "source": [
        "Y_train[:10]\n",
        "\n",
        "# Here we print out the binary matrix representation of the training output. \n"
      ],
      "execution_count": 13,
      "outputs": [
        {
          "output_type": "execute_result",
          "data": {
            "text/plain": [
              "array([[0., 0., 0., 0., 0., 1., 0., 0., 0., 0.],\n",
              "       [1., 0., 0., 0., 0., 0., 0., 0., 0., 0.],\n",
              "       [0., 0., 0., 0., 1., 0., 0., 0., 0., 0.],\n",
              "       [0., 1., 0., 0., 0., 0., 0., 0., 0., 0.],\n",
              "       [0., 0., 0., 0., 0., 0., 0., 0., 0., 1.],\n",
              "       [0., 0., 1., 0., 0., 0., 0., 0., 0., 0.],\n",
              "       [0., 1., 0., 0., 0., 0., 0., 0., 0., 0.],\n",
              "       [0., 0., 0., 1., 0., 0., 0., 0., 0., 0.],\n",
              "       [0., 1., 0., 0., 0., 0., 0., 0., 0., 0.],\n",
              "       [0., 0., 0., 0., 1., 0., 0., 0., 0., 0.]], dtype=float32)"
            ]
          },
          "metadata": {
            "tags": []
          },
          "execution_count": 13
        }
      ]
    },
    {
      "cell_type": "code",
      "metadata": {
        "id": "osKqT73Q9JJB",
        "colab_type": "code",
        "outputId": "d5475816-76ce-4eaa-d0dc-1026ab89b91f",
        "colab": {
          "base_uri": "https://localhost:8080/",
          "height": 367
        }
      },
      "source": [
        "from keras.layers import Activation\n",
        "from keras.layers.normalization import BatchNormalization\n",
        "model = Sequential()\n",
        "\n",
        " \n",
        "model.add(Convolution2D(32, 3, 3, activation='relu', input_shape=(28,28,1))) #Receptive Field = 3x3\n",
        "model.add(Convolution2D(64, 3, 3, activation='relu')) #input_shape=(26,26,32) #Receptive Field = 5x5\n",
        "model.add(Convolution2D(16, 1, 1, activation='relu')) #input_shape=(24,24,64) #Receptive Field = 5x5\n",
        "model.add(MaxPooling2D(pool_size=(2, 2))) #input_shape=(24,24,16)\n",
        "\n",
        "model.add(Convolution2D(32, 3, 3, activation='relu')) #input_shape=(12,12,16) #Receptive Field = 10x10\n",
        "model.add(Convolution2D(64, 3, 3, activation='relu')) #input_shape=(10,10,32) #Receptive Field = 12x12\n",
        "model.add(Convolution2D(128, 3, 3, activation='relu')) #input_shape=(8,8,64) #Receptive Field = 14x14\n",
        "model.add(Convolution2D(128, 3, 3, activation='relu')) #input_shape=(6,6,128) #Receptive Field = 16x16\n",
        "\n",
        "model.add(Convolution2D(10, 4, 4)) #input_shape=(4,4,128) #Receptive Field = 18x18\n",
        "\n",
        "model.add(Flatten())\n",
        "model.add(Activation('softmax'))\n",
        "\n",
        "\n",
        "# As we know Sequential creates a model that is a linear stack of layers.model.add() adds layers one by one  in this stack.\n",
        "# Activation - It can be used through an Activation layer, or through the activation argument supported by all forward layers.\n",
        "# Here we use 'relu 'in the argument of add(). ReLU converts all the pixel values between [-1,1] to [0,1].\n",
        "# MaxPooling2D - It performs Max pooling operation for spatial data. Here we spcify 2x2 maxpooling , therefore it will take the max \n",
        "# value of various 2x2 sections of the image , and the output size of the image will reduce by half or else in other words \n",
        "# we filter out 75% of data. \n",
        "# At last we flatten the data using Flatten() and using softmax activation to get the final output.\n",
        "# Softmax - It is used because some vector components could be negative, or greater than one; and might not sum to 1, but after applying \n",
        "# softmax,each component will be in the interval (0,1), and the components will add up to 1, so that they can be interpreted as probabilities.\n",
        "# And during prediction the highest probability one will be taken as the output and if this matches the ground truth , \n",
        "# we have a correct prediction , otherwise a false prediction.\n",
        "# The first argument of the Convolution2D is the number of 3x3 filters that is used in that layer\n",
        "# summary() prints the summary of the whole network."
      ],
      "execution_count": 14,
      "outputs": [
        {
          "output_type": "stream",
          "text": [
            "WARNING:tensorflow:From /usr/local/lib/python3.6/dist-packages/tensorflow/python/framework/op_def_library.py:263: colocate_with (from tensorflow.python.framework.ops) is deprecated and will be removed in a future version.\n",
            "Instructions for updating:\n",
            "Colocations handled automatically by placer.\n"
          ],
          "name": "stdout"
        },
        {
          "output_type": "stream",
          "text": [
            "/usr/local/lib/python3.6/dist-packages/ipykernel_launcher.py:6: UserWarning: Update your `Conv2D` call to the Keras 2 API: `Conv2D(32, (3, 3), activation=\"relu\", input_shape=(28, 28, 1...)`\n",
            "  \n",
            "/usr/local/lib/python3.6/dist-packages/ipykernel_launcher.py:7: UserWarning: Update your `Conv2D` call to the Keras 2 API: `Conv2D(64, (3, 3), activation=\"relu\")`\n",
            "  import sys\n",
            "/usr/local/lib/python3.6/dist-packages/ipykernel_launcher.py:8: UserWarning: Update your `Conv2D` call to the Keras 2 API: `Conv2D(16, (1, 1), activation=\"relu\")`\n",
            "  \n",
            "/usr/local/lib/python3.6/dist-packages/ipykernel_launcher.py:11: UserWarning: Update your `Conv2D` call to the Keras 2 API: `Conv2D(32, (3, 3), activation=\"relu\")`\n",
            "  # This is added back by InteractiveShellApp.init_path()\n",
            "/usr/local/lib/python3.6/dist-packages/ipykernel_launcher.py:12: UserWarning: Update your `Conv2D` call to the Keras 2 API: `Conv2D(64, (3, 3), activation=\"relu\")`\n",
            "  if sys.path[0] == '':\n",
            "/usr/local/lib/python3.6/dist-packages/ipykernel_launcher.py:13: UserWarning: Update your `Conv2D` call to the Keras 2 API: `Conv2D(128, (3, 3), activation=\"relu\")`\n",
            "  del sys.path[0]\n",
            "/usr/local/lib/python3.6/dist-packages/ipykernel_launcher.py:14: UserWarning: Update your `Conv2D` call to the Keras 2 API: `Conv2D(128, (3, 3), activation=\"relu\")`\n",
            "  \n",
            "/usr/local/lib/python3.6/dist-packages/ipykernel_launcher.py:16: UserWarning: Update your `Conv2D` call to the Keras 2 API: `Conv2D(10, (4, 4))`\n",
            "  app.launch_new_instance()\n"
          ],
          "name": "stderr"
        }
      ]
    },
    {
      "cell_type": "code",
      "metadata": {
        "id": "TzdAYg1k9K7Z",
        "colab_type": "code",
        "outputId": "57637144-da2c-478a-b658-b627556b9a2e",
        "colab": {
          "base_uri": "https://localhost:8080/",
          "height": 520
        }
      },
      "source": [
        "model.summary()"
      ],
      "execution_count": 15,
      "outputs": [
        {
          "output_type": "stream",
          "text": [
            "_________________________________________________________________\n",
            "Layer (type)                 Output Shape              Param #   \n",
            "=================================================================\n",
            "conv2d_1 (Conv2D)            (None, 26, 26, 32)        320       \n",
            "_________________________________________________________________\n",
            "conv2d_2 (Conv2D)            (None, 24, 24, 64)        18496     \n",
            "_________________________________________________________________\n",
            "conv2d_3 (Conv2D)            (None, 24, 24, 16)        1040      \n",
            "_________________________________________________________________\n",
            "max_pooling2d_1 (MaxPooling2 (None, 12, 12, 16)        0         \n",
            "_________________________________________________________________\n",
            "conv2d_4 (Conv2D)            (None, 10, 10, 32)        4640      \n",
            "_________________________________________________________________\n",
            "conv2d_5 (Conv2D)            (None, 8, 8, 64)          18496     \n",
            "_________________________________________________________________\n",
            "conv2d_6 (Conv2D)            (None, 6, 6, 128)         73856     \n",
            "_________________________________________________________________\n",
            "conv2d_7 (Conv2D)            (None, 4, 4, 128)         147584    \n",
            "_________________________________________________________________\n",
            "conv2d_8 (Conv2D)            (None, 1, 1, 10)          20490     \n",
            "_________________________________________________________________\n",
            "flatten_1 (Flatten)          (None, 10)                0         \n",
            "_________________________________________________________________\n",
            "activation_1 (Activation)    (None, 10)                0         \n",
            "=================================================================\n",
            "Total params: 284,922\n",
            "Trainable params: 284,922\n",
            "Non-trainable params: 0\n",
            "_________________________________________________________________\n"
          ],
          "name": "stdout"
        }
      ]
    },
    {
      "cell_type": "code",
      "metadata": {
        "id": "Zp6SuGrL9M3h",
        "colab_type": "code",
        "colab": {}
      },
      "source": [
        "model.compile(loss='categorical_crossentropy',\n",
        "             optimizer='adam',\n",
        "             metrics=['accuracy'])\n",
        "\n",
        "# complile() configures the model for training and we define what all metrics is calculated during training, \n",
        "# here its accurancy only.\n",
        "# categorical_crossentropy- It is a Softmax activation plus a Cross-Entropy loss. If we use this loss, we will train a CNN \n",
        "# to output a probability over the C-classes for each image.\n",
        "# Since we have mulitple classes , we use categorical crossentropy to calculate the loss.\n",
        "# Adam - Adam is an optimization algorithm that can used to update network weights iterative based in training data.\n",
        "# After calculating the loss, we use adam with the help of the categorical_crossentropy loss calculated of the training data."
      ],
      "execution_count": 0,
      "outputs": []
    },
    {
      "cell_type": "code",
      "metadata": {
        "id": "4xWoKhPY9Of5",
        "colab_type": "code",
        "outputId": "fd309c4b-caec-4c33-d3af-7d0d90648d28",
        "colab": {
          "base_uri": "https://localhost:8080/",
          "height": 436
        }
      },
      "source": [
        "model.fit(X_train, Y_train, batch_size=32, nb_epoch=10, verbose=1)\n",
        "\n",
        "# fit() trains the above model for a given number of epochs.\n",
        "# Epochs are the number of iterations on a dataset.\n",
        "# We also define batch size = 32 , which the number of images passed through the network for each epoch.\n",
        "# verbose is set to 1 so that we can see the progess bar."
      ],
      "execution_count": 19,
      "outputs": [
        {
          "output_type": "stream",
          "text": [
            "Epoch 1/10\n",
            "  704/60000 [..............................] - ETA: 14s - loss: 0.2081 - acc: 0.9332"
          ],
          "name": "stdout"
        },
        {
          "output_type": "stream",
          "text": [
            "/usr/local/lib/python3.6/dist-packages/ipykernel_launcher.py:1: UserWarning: The `nb_epoch` argument in `fit` has been renamed `epochs`.\n",
            "  \"\"\"Entry point for launching an IPython kernel.\n"
          ],
          "name": "stderr"
        },
        {
          "output_type": "stream",
          "text": [
            "60000/60000 [==============================] - 11s 184us/step - loss: 0.0831 - acc: 0.9748\n",
            "Epoch 2/10\n",
            "60000/60000 [==============================] - 11s 191us/step - loss: 0.0447 - acc: 0.9865\n",
            "Epoch 3/10\n",
            "60000/60000 [==============================] - 11s 187us/step - loss: 0.0336 - acc: 0.9899\n",
            "Epoch 4/10\n",
            "60000/60000 [==============================] - 11s 180us/step - loss: 0.0264 - acc: 0.9919\n",
            "Epoch 5/10\n",
            "60000/60000 [==============================] - 11s 180us/step - loss: 0.0226 - acc: 0.9928\n",
            "Epoch 6/10\n",
            "60000/60000 [==============================] - 11s 180us/step - loss: 0.0180 - acc: 0.9945\n",
            "Epoch 7/10\n",
            "60000/60000 [==============================] - 11s 180us/step - loss: 0.0169 - acc: 0.9948\n",
            "Epoch 8/10\n",
            "60000/60000 [==============================] - 11s 179us/step - loss: 0.0129 - acc: 0.9958\n",
            "Epoch 9/10\n",
            "60000/60000 [==============================] - 11s 182us/step - loss: 0.0135 - acc: 0.9957\n",
            "Epoch 10/10\n",
            "60000/60000 [==============================] - 12s 195us/step - loss: 0.0095 - acc: 0.9971\n"
          ],
          "name": "stdout"
        },
        {
          "output_type": "execute_result",
          "data": {
            "text/plain": [
              "<keras.callbacks.History at 0x7fa816ca0518>"
            ]
          },
          "metadata": {
            "tags": []
          },
          "execution_count": 19
        }
      ]
    },
    {
      "cell_type": "code",
      "metadata": {
        "id": "AtsH-lLk-eLb",
        "colab_type": "code",
        "colab": {}
      },
      "source": [
        "score = model.evaluate(X_test, Y_test, verbose=0)\n",
        "\n",
        "# evaluvate() returns the loss value & accuracy for the model in test mode.\n",
        "# Here also computation is done in batches."
      ],
      "execution_count": 0,
      "outputs": []
    },
    {
      "cell_type": "code",
      "metadata": {
        "id": "mkX8JMv79q9r",
        "colab_type": "code",
        "outputId": "76e88352-59b7-46d3-9c3c-ccd165cab19b",
        "colab": {
          "base_uri": "https://localhost:8080/",
          "height": 35
        }
      },
      "source": [
        "print(score)\n",
        "\n",
        "# Here we the test score , which is a list of scalars which includes loss and accuracy."
      ],
      "execution_count": 21,
      "outputs": [
        {
          "output_type": "stream",
          "text": [
            "[0.029962693651335214, 0.9916]\n"
          ],
          "name": "stdout"
        }
      ]
    },
    {
      "cell_type": "code",
      "metadata": {
        "id": "OCWoJkwE9suh",
        "colab_type": "code",
        "colab": {}
      },
      "source": [
        "y_pred = model.predict(X_test)\n",
        "\n",
        "# predict() generates output predictions for the input samples.\n",
        "# Here also computation is done in batches."
      ],
      "execution_count": 0,
      "outputs": []
    },
    {
      "cell_type": "code",
      "metadata": {
        "id": "Ym7iCFBm9uBs",
        "colab_type": "code",
        "outputId": "2be32609-5c49-4919-864a-581a255b6415",
        "colab": {
          "base_uri": "https://localhost:8080/",
          "height": 347
        }
      },
      "source": [
        "print(y_pred[:9])\n",
        "print(y_test[:9])\n",
        "\n",
        "# Here we print the output predictions from the model and the outputs from the ground truth, \n",
        "# to check how much correct predictions we got."
      ],
      "execution_count": 23,
      "outputs": [
        {
          "output_type": "stream",
          "text": [
            "[[1.2312819e-18 2.2883254e-14 2.4927191e-11 3.0262412e-10 4.1051283e-19\n",
            "  2.0503656e-14 5.5397221e-23 1.0000000e+00 1.9473930e-13 1.6030374e-09]\n",
            " [5.4896254e-11 8.1575535e-10 1.0000000e+00 5.1121329e-11 1.0448716e-11\n",
            "  6.2227343e-14 4.5309951e-09 3.5433932e-12 2.7728472e-11 8.2598333e-15]\n",
            " [2.0970626e-11 9.9999976e-01 2.5100590e-07 7.9356461e-12 5.0551885e-10\n",
            "  6.1856507e-09 1.3139918e-10 2.6500595e-08 5.4633091e-08 4.7937800e-12]\n",
            " [9.9999988e-01 4.8201992e-14 5.7818104e-11 2.0627787e-08 1.2718376e-12\n",
            "  8.7907237e-10 1.2128896e-07 2.9806633e-11 1.6841865e-10 1.4734558e-09]\n",
            " [7.5095846e-11 1.4182255e-09 5.5560306e-11 4.3827687e-14 1.0000000e+00\n",
            "  1.0775553e-09 4.1532637e-12 1.1582163e-11 3.9085184e-09 2.2400780e-08]\n",
            " [1.7489536e-14 1.0000000e+00 4.1172509e-08 3.4915014e-15 2.5878003e-10\n",
            "  2.6899190e-12 5.6988776e-14 1.1675042e-09 1.0617272e-10 2.8363855e-14]\n",
            " [3.9606464e-14 5.3907606e-10 9.5234009e-13 1.4140320e-17 9.9999917e-01\n",
            "  1.1081139e-13 9.9372794e-17 7.9492422e-09 3.6059851e-07 4.6545222e-07]\n",
            " [1.4499119e-10 1.2967806e-10 1.2850814e-08 7.8650726e-07 7.6423294e-07\n",
            "  2.3611346e-08 5.8935376e-13 4.8519505e-10 9.9848528e-08 9.9999833e-01]\n",
            " [1.1127789e-08 8.5841355e-14 6.8780604e-15 2.3819120e-09 3.4946119e-11\n",
            "  8.2390255e-01 1.7564571e-01 2.3700856e-15 3.7729298e-04 7.4492316e-05]]\n",
            "[7 2 1 0 4 1 4 9 5]\n"
          ],
          "name": "stdout"
        }
      ]
    },
    {
      "cell_type": "code",
      "metadata": {
        "id": "CT--y98_dr2T",
        "colab_type": "code",
        "colab": {}
      },
      "source": [
        "layer_dict = dict([(layer.name, layer) for layer in model.layers])\n",
        "#print (layer_dict)\n",
        "\n",
        "# Creates a dictionary of convolution layers outputs with their corresponding layer names. "
      ],
      "execution_count": 0,
      "outputs": []
    },
    {
      "cell_type": "code",
      "metadata": {
        "id": "2GY4Upv4dsUR",
        "colab_type": "code",
        "outputId": "2552d5dc-d5ec-43ec-bbd9-3908aac16f83",
        "colab": {
          "base_uri": "https://localhost:8080/",
          "height": 837
        }
      },
      "source": [
        "import numpy as np\n",
        "from matplotlib import pyplot as plt\n",
        "from keras import backend as K\n",
        "%matplotlib inline\n",
        "# util function to convert a tensor into a valid image\n",
        "def deprocess_image(x):\n",
        "    # normalize tensor: center on 0., ensure std is 0.1\n",
        "    x -= x.mean()\n",
        "    x /= (x.std() + 1e-5)\n",
        "    x *= 0.1\n",
        "\n",
        "    # clip to [0, 1]\n",
        "    x += 0.5\n",
        "    x = np.clip(x, 0, 1)\n",
        "\n",
        "    # convert to RGB array\n",
        "    x *= 255\n",
        "    #x = x.transpose((1, 2, 0))\n",
        "    x = np.clip(x, 0, 255).astype('uint8')\n",
        "    return x\n",
        "\n",
        "def vis_img_in_filter(img = np.array(X_train[2]).reshape((1, 28, 28, 1)).astype(np.float64), \n",
        "                      layer_name = 'conv2d_1'):\n",
        "    layer_output = layer_dict[layer_name].output\n",
        "    img_ascs = list()\n",
        "    for filter_index in range(layer_output.shape[3]):\n",
        "        # build a loss function that maximizes the activation\n",
        "        # of the nth filter of the layer considered\n",
        "        loss = K.mean(layer_output[:, :, :, filter_index])\n",
        "\n",
        "        # compute the gradient of the input picture wrt this loss\n",
        "        grads = K.gradients(loss, model.input)[0]\n",
        "\n",
        "        # normalization trick: we normalize the gradient\n",
        "        grads /= (K.sqrt(K.mean(K.square(grads))) + 1e-5)\n",
        "\n",
        "        # this function returns the loss and grads given the input picture\n",
        "        iterate = K.function([model.input], [loss, grads])\n",
        "\n",
        "        # step size for gradient ascent\n",
        "        step = 5.\n",
        "\n",
        "        img_asc = np.array(img)\n",
        "        # run gradient ascent for 20 steps\n",
        "        for i in range(20):\n",
        "            loss_value, grads_value = iterate([img_asc])\n",
        "            img_asc += grads_value * step\n",
        "\n",
        "        img_asc = img_asc[0]\n",
        "        img_ascs.append(deprocess_image(img_asc).reshape((28, 28)))\n",
        "        \n",
        "    if layer_output.shape[3] >= 35:\n",
        "        plot_x, plot_y = 6, 6\n",
        "    elif layer_output.shape[3] >= 23:\n",
        "        plot_x, plot_y = 4, 6\n",
        "    elif layer_output.shape[3] >= 11:\n",
        "        plot_x, plot_y = 2, 6\n",
        "    else:\n",
        "        plot_x, plot_y = 1, 2\n",
        "    fig, ax = plt.subplots(plot_x, plot_y, figsize = (12, 12))\n",
        "    ax[0, 0].imshow(img.reshape((28, 28)), cmap = 'gray')\n",
        "    ax[0, 0].set_title('Input image')\n",
        "    fig.suptitle('Input image and %s filters' % (layer_name,))\n",
        "    fig.tight_layout(pad = 0.3, rect = [0, 0, 0.9, 0.9])\n",
        "    for (x, y) in [(i, j) for i in range(plot_x) for j in range(plot_y)]:\n",
        "        if x == 0 and y == 0:\n",
        "            continue\n",
        "        ax[x, y].imshow(img_ascs[x * plot_y + y - 1], cmap = 'gray')\n",
        "        ax[x, y].set_title('filter %d' % (x * plot_y + y - 1))\n",
        "\n",
        "vis_img_in_filter()\n",
        "\n",
        "\n",
        "# This part of code prints out the the matplot visualizations of any convolution layer, including the input image\n",
        "# and its filter images. We just have to specify the convolution layer name.\n",
        "# deprocess_image() converts the tensor into a valid image\n",
        "# vis_img_in_filter() does the rest of the processing for each filter in a layer."
      ],
      "execution_count": 26,
      "outputs": [
        {
          "output_type": "display_data",
          "data": {
            "image/png": "[encoded data removed]",
            "text/plain": [
              "<Figure size 864x864 with 24 Axes>"
            ]
          },
          "metadata": {
            "tags": []
          }
        }
      ]
    },
    {
      "cell_type": "markdown",
      "metadata": {
        "id": "LkADgSKNFwff",
        "colab_type": "text"
      },
      "source": [
        "Observations\n",
        "\n",
        "In this base network, i used more number of kernels each layer of convolutions, and the number of convolutions is 8. The total receptive field is at 22x22 , but its still enough because the last few rows and columns doesnt contain any data. And the total number of parameters are near 285 , 000. After 10 epoch with a batch size of 32, i got a validation accuracy of 99.16."
      ]
    }
  ]
}
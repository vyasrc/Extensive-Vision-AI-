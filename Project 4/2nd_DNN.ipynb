{
  "nbformat": 4,
  "nbformat_minor": 0,
  "metadata": {
    "colab": {
      "name": "2nd DNN.ipynb",
      "version": "0.3.2",
      "provenance": [],
      "collapsed_sections": []
    },
    "kernelspec": {
      "name": "python3",
      "display_name": "Python 3"
    },
    "accelerator": "GPU"
  },
  "cells": [
    {
      "cell_type": "markdown",
      "metadata": {
        "id": "aNyZv-Ec52ot",
        "colab_type": "text"
      },
      "source": [
        "# **Import Libraries and modules**"
      ]
    },
    {
      "cell_type": "markdown",
      "metadata": {
        "id": "pV_AbL_8T2ip",
        "colab_type": "text"
      },
      "source": [
        "In this second iteration,  i am trying to build a more accurate network , by using batch normalisation and determining the number of kernels. And also i increase the number of epochs to 20."
      ]
    },
    {
      "cell_type": "code",
      "metadata": {
        "id": "3m3w1Cw49Zkt",
        "colab_type": "code",
        "colab": {}
      },
      "source": [
        "# https://keras.io/\n",
        "!pip install -q keras\n",
        "import keras\n",
        "\n",
        "# Keras is a high-level neural networks API, written in Python and capable of running on top of TensorFlow, CNTK, or Theano. \n",
        "# It was developed with a focus on enabling fast experimentation. Being able to go from idea to result with the least possible \n",
        "# delay is key to doing good research."
      ],
      "execution_count": 0,
      "outputs": []
    },
    {
      "cell_type": "code",
      "metadata": {
        "id": "Eso6UHE080D4",
        "colab_type": "code",
        "colab": {}
      },
      "source": [
        "import numpy as np\n",
        "\n",
        "from keras.models import Sequential\n",
        "from keras.layers import Dense, Dropout, Activation, Flatten, Add\n",
        "from keras.layers import Convolution2D, MaxPooling2D\n",
        "from keras.utils import np_utils\n",
        "\n",
        "from keras.datasets import mnist\n",
        "\n",
        "# NumPy is a library for the Python programming language, adding support for large, multi-dimensional arrays and matrices,\n",
        "# along with a large collection of high-level mathematical functions to operate on these arrays.\n",
        "# Sequential - It creates a model that is a linear stack of layers.\n",
        "# Flatten - It flattens the input and also it does not affect the batch size.\n",
        "# Convolution2D - This actually performs the 2D convolution on the input vector and produce the convoluted output.\n",
        "# Dense - It implements the operation that is output i equal to activation(dot(input, kernel) + bias) where activation is the element-wise\n",
        "# activation function passed as the activation argument, kernel is a weights matrix created by the layer, \n",
        "# and bias is a bias vector created by the layer. \n",
        "# Dropout - It applies Dropout to the input. It consists of randomly setting a fraction rate of input units to 0 at each update during \n",
        "# training time, which helps prevent overfitting."
      ],
      "execution_count": 0,
      "outputs": []
    },
    {
      "cell_type": "markdown",
      "metadata": {
        "id": "zByEi95J86RD",
        "colab_type": "text"
      },
      "source": [
        "### Load pre-shuffled MNIST data into train and test sets"
      ]
    },
    {
      "cell_type": "code",
      "metadata": {
        "id": "7eRM0QWN83PV",
        "colab_type": "code",
        "colab": {
          "base_uri": "https://localhost:8080/",
          "height": 52
        },
        "outputId": "564d3871-18ca-46a7-f225-10c703fbc1c8"
      },
      "source": [
        "(X_train, y_train), (X_test, y_test) = mnist.load_data()\n",
        "\n",
        "# Loads the mnist training and testing data into respective variables."
      ],
      "execution_count": 4,
      "outputs": [
        {
          "output_type": "stream",
          "text": [
            "Downloading data from https://s3.amazonaws.com/img-datasets/mnist.npz\n",
            "11493376/11490434 [==============================] - 1s 0us/step\n"
          ],
          "name": "stdout"
        }
      ]
    },
    {
      "cell_type": "code",
      "metadata": {
        "id": "4a4Be72j8-ZC",
        "colab_type": "code",
        "outputId": "8523e78a-d55f-417d-c6c8-bfbf077c78db",
        "colab": {
          "base_uri": "https://localhost:8080/",
          "height": 304
        }
      },
      "source": [
        "print (X_train.shape)\n",
        "from matplotlib import pyplot as plt\n",
        "%matplotlib inline\n",
        "plt.imshow(X_train[0])\n",
        "\n",
        "# Matplotlib is a Python 2D plotting library which produces publication quality figures \n",
        "# in a variety of hardcopy formats and interactive environments across platforms. \n",
        "# Here we use it to show an example of how an image in a mnist training data looks like."
      ],
      "execution_count": 5,
      "outputs": [
        {
          "output_type": "stream",
          "text": [
            "(60000, 28, 28)\n"
          ],
          "name": "stdout"
        },
        {
          "output_type": "execute_result",
          "data": {
            "text/plain": [
              "<matplotlib.image.AxesImage at 0x7f2e2604d128>"
            ]
          },
          "metadata": {
            "tags": []
          },
          "execution_count": 5
        },
        {
          "output_type": "display_data",
          "data": {
            "image/png": "[encoded data removed]",
            "text/plain": [
              "<Figure size 432x288 with 1 Axes>"
            ]
          },
          "metadata": {
            "tags": []
          }
        }
      ]
    },
    {
      "cell_type": "code",
      "metadata": {
        "id": "dkmprriw9AnZ",
        "colab_type": "code",
        "colab": {}
      },
      "source": [
        "X_train = X_train.reshape(X_train.shape[0], 28, 28,1)\n",
        "X_test = X_test.reshape(X_test.shape[0], 28, 28,1)\n",
        "\n",
        "# numpy.reshape() gives a new shape to an array without changing its data.\n",
        "# Here it is done to indicate the the number of color channels , here it is 1 as it is a grayscale image.\n",
        "# If it was a RGB it will be changed to 3."
      ],
      "execution_count": 0,
      "outputs": []
    },
    {
      "cell_type": "code",
      "metadata": {
        "id": "X2m4YS4E9CRh",
        "colab_type": "code",
        "colab": {}
      },
      "source": [
        "X_train = X_train.astype('float32')\n",
        "X_test = X_test.astype('float32')\n",
        "X_train /= 255\n",
        "X_test /= 255\n",
        "\n",
        "# ndarray.astype() is used to cast a copy of the array to a specified type.\n",
        "# And we divide the whole training and testing data by 255 to normalise it to values between 0 and 1."
      ],
      "execution_count": 0,
      "outputs": []
    },
    {
      "cell_type": "code",
      "metadata": {
        "id": "0Mn0vAYD9DvB",
        "colab_type": "code",
        "outputId": "8c18d5de-3405-4257-cc40-933ce062db7c",
        "colab": {
          "base_uri": "https://localhost:8080/",
          "height": 35
        }
      },
      "source": [
        "y_train[:10]\n",
        "\n",
        "# Here we print the training outputs to check whether all 10 distinct outputs are there or not."
      ],
      "execution_count": 8,
      "outputs": [
        {
          "output_type": "execute_result",
          "data": {
            "text/plain": [
              "array([5, 0, 4, 1, 9, 2, 1, 3, 1, 4], dtype=uint8)"
            ]
          },
          "metadata": {
            "tags": []
          },
          "execution_count": 8
        }
      ]
    },
    {
      "cell_type": "code",
      "metadata": {
        "id": "ZG8JiXR39FHC",
        "colab_type": "code",
        "colab": {}
      },
      "source": [
        "# Convert 1-dimensional class arrays to 10-dimensional class matrices\n",
        "Y_train = np_utils.to_categorical(y_train, 10)\n",
        "Y_test = np_utils.to_categorical(y_test, 10)\n",
        "\n",
        "# to_categorical - Converts a class vector (integers) to binary class matrix.\n",
        "# It returns binary matrix representation of the input, where the bit corresponding to each class number wiil be 1 and \n",
        "# everything else is 0."
      ],
      "execution_count": 0,
      "outputs": []
    },
    {
      "cell_type": "code",
      "metadata": {
        "id": "fYlFRvKS9HMB",
        "colab_type": "code",
        "outputId": "4ab4ff91-d198-44f2-e498-3c4b01722450",
        "colab": {
          "base_uri": "https://localhost:8080/",
          "height": 191
        }
      },
      "source": [
        "Y_train[:10]\n",
        "\n",
        "# Here we print out the binary matrix representation of the training output. \n"
      ],
      "execution_count": 10,
      "outputs": [
        {
          "output_type": "execute_result",
          "data": {
            "text/plain": [
              "array([[0., 0., 0., 0., 0., 1., 0., 0., 0., 0.],\n",
              "       [1., 0., 0., 0., 0., 0., 0., 0., 0., 0.],\n",
              "       [0., 0., 0., 0., 1., 0., 0., 0., 0., 0.],\n",
              "       [0., 1., 0., 0., 0., 0., 0., 0., 0., 0.],\n",
              "       [0., 0., 0., 0., 0., 0., 0., 0., 0., 1.],\n",
              "       [0., 0., 1., 0., 0., 0., 0., 0., 0., 0.],\n",
              "       [0., 1., 0., 0., 0., 0., 0., 0., 0., 0.],\n",
              "       [0., 0., 0., 1., 0., 0., 0., 0., 0., 0.],\n",
              "       [0., 1., 0., 0., 0., 0., 0., 0., 0., 0.],\n",
              "       [0., 0., 0., 0., 1., 0., 0., 0., 0., 0.]], dtype=float32)"
            ]
          },
          "metadata": {
            "tags": []
          },
          "execution_count": 10
        }
      ]
    },
    {
      "cell_type": "code",
      "metadata": {
        "id": "osKqT73Q9JJB",
        "colab_type": "code",
        "outputId": "89d5dc84-2318-42aa-f506-51e4334d74ad",
        "colab": {
          "base_uri": "https://localhost:8080/",
          "height": 245
        }
      },
      "source": [
        "from keras.layers import Activation\n",
        "from keras.layers.normalization import BatchNormalization\n",
        "model = Sequential()\n",
        " \n",
        "model.add(Convolution2D(16, 3, 3, activation='relu', input_shape=(28,28,1))) #Receptive Field = 3x3\n",
        "model.add(BatchNormalization())\n",
        "\n",
        "model.add(Convolution2D(16, 3, 3, activation='relu')) #input_shape=(26,26,16) #Receptive Field = 5x5\n",
        "model.add(BatchNormalization())\n",
        "\n",
        "model.add(Convolution2D(10, 1, 1, activation='relu')) #input_shape=(24,24,16) #Receptive Field = 5x5\n",
        "model.add(BatchNormalization())\n",
        "\n",
        "model.add(MaxPooling2D(pool_size=(2, 2))) #input_shape=(24,24,10)\n",
        "\n",
        "model.add(Convolution2D(16, 3, 3, activation='relu')) #input_shape=(12,12,10) #Receptive Field = 10x10\n",
        "model.add(BatchNormalization())\n",
        "\n",
        "model.add(Convolution2D(16, 3, 3, activation='relu')) #input_shape=(10,10,16) #Receptive Field = 12x12\n",
        "model.add(BatchNormalization())\n",
        "\n",
        "model.add(Convolution2D(16, 3, 3, activation='relu')) #input_shape=(8,8,16) #Receptive Field = 14x14\n",
        "model.add(BatchNormalization())\n",
        "\n",
        "model.add(Convolution2D(16, 3, 3, activation='relu')) #input_shape=(6,6,16) #Receptive Field = 16x16\n",
        "model.add(BatchNormalization())\n",
        "\n",
        "model.add(Convolution2D(10, 4, 4)) #input_shape=(4,4,16) #Receptive Field = 18x18\n",
        "\n",
        "model.add(Flatten())\n",
        "model.add(Activation('softmax'))\n",
        "\n",
        "\n",
        "# As we know Sequential creates a model that is a linear stack of layers.model.add() adds layers one by one  in this stack.\n",
        "# Activation - It can be used through an Activation layer, or through the activation argument supported by all forward layers.\n",
        "# Here we use 'relu 'in the argument of add(). ReLU converts all the pixel values between [-1,1] to [0,1].\n",
        "# MaxPooling2D - It performs Max pooling operation for spatial data. Here we spcify 2x2 maxpooling , therefore it will take the max \n",
        "# value of various 2x2 sections of the image , and the output size of the image will reduce by half or else in other words \n",
        "# we filter out 75% of data. \n",
        "# At last we flatten the data using Flatten() and using softmax activation to get the final output.\n",
        "# Softmax - It is used because some vector components could be negative, or greater than one; and might not sum to 1, but after applying \n",
        "# softmax,each component will be in the interval (0,1), and the components will add up to 1, so that they can be interpreted as probabilities.\n",
        "# And during prediction the highest probability one will be taken as the output and if this matches the ground truth , \n",
        "# we have a correct prediction , otherwise a false prediction.\n",
        "# The first argument of the Convolution2D is the number of 3x3 filters that is used in that layer\n",
        "# summary() prints the summary of the whole network."
      ],
      "execution_count": 26,
      "outputs": [
        {
          "output_type": "stream",
          "text": [
            "/usr/local/lib/python3.6/dist-packages/ipykernel_launcher.py:5: UserWarning: Update your `Conv2D` call to the Keras 2 API: `Conv2D(16, (3, 3), activation=\"relu\", input_shape=(28, 28, 1...)`\n",
            "  \"\"\"\n",
            "/usr/local/lib/python3.6/dist-packages/ipykernel_launcher.py:8: UserWarning: Update your `Conv2D` call to the Keras 2 API: `Conv2D(16, (3, 3), activation=\"relu\")`\n",
            "  \n",
            "/usr/local/lib/python3.6/dist-packages/ipykernel_launcher.py:11: UserWarning: Update your `Conv2D` call to the Keras 2 API: `Conv2D(10, (1, 1), activation=\"relu\")`\n",
            "  # This is added back by InteractiveShellApp.init_path()\n",
            "/usr/local/lib/python3.6/dist-packages/ipykernel_launcher.py:16: UserWarning: Update your `Conv2D` call to the Keras 2 API: `Conv2D(16, (3, 3), activation=\"relu\")`\n",
            "  app.launch_new_instance()\n",
            "/usr/local/lib/python3.6/dist-packages/ipykernel_launcher.py:19: UserWarning: Update your `Conv2D` call to the Keras 2 API: `Conv2D(16, (3, 3), activation=\"relu\")`\n",
            "/usr/local/lib/python3.6/dist-packages/ipykernel_launcher.py:22: UserWarning: Update your `Conv2D` call to the Keras 2 API: `Conv2D(16, (3, 3), activation=\"relu\")`\n",
            "/usr/local/lib/python3.6/dist-packages/ipykernel_launcher.py:25: UserWarning: Update your `Conv2D` call to the Keras 2 API: `Conv2D(16, (3, 3), activation=\"relu\")`\n",
            "/usr/local/lib/python3.6/dist-packages/ipykernel_launcher.py:28: UserWarning: Update your `Conv2D` call to the Keras 2 API: `Conv2D(10, (4, 4))`\n"
          ],
          "name": "stderr"
        }
      ]
    },
    {
      "cell_type": "code",
      "metadata": {
        "id": "TzdAYg1k9K7Z",
        "colab_type": "code",
        "outputId": "45c38318-557a-4f1a-8e04-878bb02cf984",
        "colab": {
          "base_uri": "https://localhost:8080/",
          "height": 763
        }
      },
      "source": [
        "model.summary()"
      ],
      "execution_count": 27,
      "outputs": [
        {
          "output_type": "stream",
          "text": [
            "_________________________________________________________________\n",
            "Layer (type)                 Output Shape              Param #   \n",
            "=================================================================\n",
            "conv2d_25 (Conv2D)           (None, 26, 26, 16)        160       \n",
            "_________________________________________________________________\n",
            "batch_normalization_22 (Batc (None, 26, 26, 16)        64        \n",
            "_________________________________________________________________\n",
            "conv2d_26 (Conv2D)           (None, 24, 24, 16)        2320      \n",
            "_________________________________________________________________\n",
            "batch_normalization_23 (Batc (None, 24, 24, 16)        64        \n",
            "_________________________________________________________________\n",
            "conv2d_27 (Conv2D)           (None, 24, 24, 10)        170       \n",
            "_________________________________________________________________\n",
            "batch_normalization_24 (Batc (None, 24, 24, 10)        40        \n",
            "_________________________________________________________________\n",
            "max_pooling2d_4 (MaxPooling2 (None, 12, 12, 10)        0         \n",
            "_________________________________________________________________\n",
            "conv2d_28 (Conv2D)           (None, 10, 10, 16)        1456      \n",
            "_________________________________________________________________\n",
            "batch_normalization_25 (Batc (None, 10, 10, 16)        64        \n",
            "_________________________________________________________________\n",
            "conv2d_29 (Conv2D)           (None, 8, 8, 16)          2320      \n",
            "_________________________________________________________________\n",
            "batch_normalization_26 (Batc (None, 8, 8, 16)          64        \n",
            "_________________________________________________________________\n",
            "conv2d_30 (Conv2D)           (None, 6, 6, 16)          2320      \n",
            "_________________________________________________________________\n",
            "batch_normalization_27 (Batc (None, 6, 6, 16)          64        \n",
            "_________________________________________________________________\n",
            "conv2d_31 (Conv2D)           (None, 4, 4, 16)          2320      \n",
            "_________________________________________________________________\n",
            "batch_normalization_28 (Batc (None, 4, 4, 16)          64        \n",
            "_________________________________________________________________\n",
            "conv2d_32 (Conv2D)           (None, 1, 1, 10)          2570      \n",
            "_________________________________________________________________\n",
            "flatten_4 (Flatten)          (None, 10)                0         \n",
            "_________________________________________________________________\n",
            "activation_4 (Activation)    (None, 10)                0         \n",
            "=================================================================\n",
            "Total params: 14,060\n",
            "Trainable params: 13,848\n",
            "Non-trainable params: 212\n",
            "_________________________________________________________________\n"
          ],
          "name": "stdout"
        }
      ]
    },
    {
      "cell_type": "code",
      "metadata": {
        "id": "Zp6SuGrL9M3h",
        "colab_type": "code",
        "colab": {}
      },
      "source": [
        "model.compile(loss='categorical_crossentropy',\n",
        "             optimizer='adam',\n",
        "             metrics=['accuracy'])\n",
        "\n",
        "# complile() configures the model for training and we define what all metrics is calculated during training, \n",
        "# here its accurancy only.\n",
        "# categorical_crossentropy- It is a Softmax activation plus a Cross-Entropy loss. If we use this loss, we will train a CNN \n",
        "# to output a probability over the C-classes for each image.\n",
        "# Since we have mulitple classes , we use categorical crossentropy to calculate the loss.\n",
        "# Adam - Adam is an optimization algorithm that can used to update network weights iterative based in training data.\n",
        "# After calculating the loss, we use adam with the help of the categorical_crossentropy loss calculated of the training data."
      ],
      "execution_count": 0,
      "outputs": []
    },
    {
      "cell_type": "code",
      "metadata": {
        "id": "4xWoKhPY9Of5",
        "colab_type": "code",
        "outputId": "1e36d9cf-0887-4bd6-b8c3-c93c1cb35b7b",
        "colab": {
          "base_uri": "https://localhost:8080/",
          "height": 763
        }
      },
      "source": [
        "model.fit(X_train, Y_train, batch_size=32, nb_epoch=20, verbose=1)\n",
        "\n",
        "# fit() trains the above model for a given number of epochs.\n",
        "# Epochs are the number of iterations on a dataset.\n",
        "# We also define batch size = 32 , which the number of images passed through the network for each epoch.\n",
        "# verbose is set to 1 so that we can see the progess bar."
      ],
      "execution_count": 29,
      "outputs": [
        {
          "output_type": "stream",
          "text": [
            "/usr/local/lib/python3.6/dist-packages/ipykernel_launcher.py:1: UserWarning: The `nb_epoch` argument in `fit` has been renamed `epochs`.\n",
            "  \"\"\"Entry point for launching an IPython kernel.\n"
          ],
          "name": "stderr"
        },
        {
          "output_type": "stream",
          "text": [
            "Epoch 1/20\n",
            "60000/60000 [==============================] - 23s 391us/step - loss: 0.1734 - acc: 0.9479\n",
            "Epoch 2/20\n",
            "60000/60000 [==============================] - 20s 339us/step - loss: 0.0522 - acc: 0.9837\n",
            "Epoch 3/20\n",
            "60000/60000 [==============================] - 20s 339us/step - loss: 0.0416 - acc: 0.9872\n",
            "Epoch 4/20\n",
            "60000/60000 [==============================] - 23s 386us/step - loss: 0.0333 - acc: 0.9895\n",
            "Epoch 5/20\n",
            "60000/60000 [==============================] - 21s 358us/step - loss: 0.0300 - acc: 0.9907\n",
            "Epoch 6/20\n",
            "60000/60000 [==============================] - 21s 342us/step - loss: 0.0266 - acc: 0.9916\n",
            "Epoch 7/20\n",
            "60000/60000 [==============================] - 20s 338us/step - loss: 0.0232 - acc: 0.9922\n",
            "Epoch 8/20\n",
            "60000/60000 [==============================] - 21s 356us/step - loss: 0.0213 - acc: 0.9933\n",
            "Epoch 9/20\n",
            "60000/60000 [==============================] - 24s 402us/step - loss: 0.0199 - acc: 0.9936\n",
            "Epoch 10/20\n",
            "60000/60000 [==============================] - 37s 615us/step - loss: 0.0173 - acc: 0.9942\n",
            "Epoch 11/20\n",
            "60000/60000 [==============================] - 38s 632us/step - loss: 0.0158 - acc: 0.9949\n",
            "Epoch 12/20\n",
            "60000/60000 [==============================] - 38s 638us/step - loss: 0.0150 - acc: 0.9951\n",
            "Epoch 13/20\n",
            "60000/60000 [==============================] - 40s 659us/step - loss: 0.0136 - acc: 0.9954\n",
            "Epoch 14/20\n",
            "60000/60000 [==============================] - 40s 667us/step - loss: 0.0128 - acc: 0.9961\n",
            "Epoch 15/20\n",
            "60000/60000 [==============================] - 30s 504us/step - loss: 0.0127 - acc: 0.9956\n",
            "Epoch 16/20\n",
            "60000/60000 [==============================] - 32s 541us/step - loss: 0.0112 - acc: 0.9965\n",
            "Epoch 17/20\n",
            "60000/60000 [==============================] - 38s 629us/step - loss: 0.0111 - acc: 0.9960\n",
            "Epoch 18/20\n",
            "60000/60000 [==============================] - 37s 613us/step - loss: 0.0105 - acc: 0.9962\n",
            "Epoch 19/20\n",
            "60000/60000 [==============================] - 37s 614us/step - loss: 0.0088 - acc: 0.9971\n",
            "Epoch 20/20\n",
            "60000/60000 [==============================] - 39s 642us/step - loss: 0.0094 - acc: 0.9969\n"
          ],
          "name": "stdout"
        },
        {
          "output_type": "execute_result",
          "data": {
            "text/plain": [
              "<keras.callbacks.History at 0x7f2dde9adcc0>"
            ]
          },
          "metadata": {
            "tags": []
          },
          "execution_count": 29
        }
      ]
    },
    {
      "cell_type": "code",
      "metadata": {
        "id": "AtsH-lLk-eLb",
        "colab_type": "code",
        "colab": {}
      },
      "source": [
        "score = model.evaluate(X_test, Y_test, verbose=0)\n",
        "\n",
        "# evaluvate() returns the loss value & accuracy for the model in test mode.\n",
        "# Here also computation is done in batches."
      ],
      "execution_count": 0,
      "outputs": []
    },
    {
      "cell_type": "code",
      "metadata": {
        "id": "mkX8JMv79q9r",
        "colab_type": "code",
        "outputId": "7a1d9a7f-f7b5-4886-8bd6-4e2eb347ceef",
        "colab": {
          "base_uri": "https://localhost:8080/",
          "height": 35
        }
      },
      "source": [
        "print(score)\n",
        "\n",
        "# Here we the test score , which is a list of scalars which includes loss and accuracy."
      ],
      "execution_count": 31,
      "outputs": [
        {
          "output_type": "stream",
          "text": [
            "[0.031661240039545374, 0.9915]\n"
          ],
          "name": "stdout"
        }
      ]
    },
    {
      "cell_type": "code",
      "metadata": {
        "id": "OCWoJkwE9suh",
        "colab_type": "code",
        "colab": {}
      },
      "source": [
        "y_pred = model.predict(X_test)\n",
        "\n",
        "# predict() generates output predictions for the input samples.\n",
        "# Here also computation is done in batches."
      ],
      "execution_count": 0,
      "outputs": []
    },
    {
      "cell_type": "code",
      "metadata": {
        "id": "Ym7iCFBm9uBs",
        "colab_type": "code",
        "outputId": "8b617e41-b265-49b2-b266-ecacd5abe778",
        "colab": {
          "base_uri": "https://localhost:8080/",
          "height": 347
        }
      },
      "source": [
        "print(y_pred[:9])\n",
        "print(y_test[:9])\n",
        "\n",
        "# Here we print the output predictions from the model and the outputs from the ground truth, \n",
        "# to check how much correct predictions we got."
      ],
      "execution_count": 33,
      "outputs": [
        {
          "output_type": "stream",
          "text": [
            "[[8.9969404e-10 3.5016818e-09 1.9493447e-08 1.5987881e-07 7.8125524e-09\n",
            "  9.4411519e-09 2.7890923e-12 9.9999976e-01 1.7902956e-10 2.4930978e-08]\n",
            " [8.5041210e-09 7.1971948e-07 9.9999917e-01 4.1980000e-10 1.8770277e-11\n",
            "  6.0532563e-13 6.8162045e-08 3.4889080e-08 7.4173840e-09 1.4469756e-11]\n",
            " [3.2020101e-13 9.9999952e-01 4.6433838e-12 1.3665859e-13 9.0021828e-08\n",
            "  5.5333199e-08 4.4352204e-12 2.9790147e-07 1.0166046e-10 1.7213980e-10]\n",
            " [9.9999607e-01 2.8725674e-15 1.3341919e-12 4.6004427e-13 1.8480691e-11\n",
            "  2.2441786e-12 3.9613983e-06 7.5912161e-13 1.2238308e-08 5.8350991e-11]\n",
            " [8.4151809e-12 6.0992539e-12 3.0826776e-13 4.2548457e-13 9.9997938e-01\n",
            "  6.1839934e-12 2.8682837e-10 2.8007141e-09 4.7359638e-12 2.0675727e-05]\n",
            " [5.2382567e-11 9.9999809e-01 2.0824826e-11 2.6147872e-13 1.5986011e-07\n",
            "  7.6632617e-08 3.6527868e-11 1.6231072e-06 1.0694710e-10 5.5919811e-09]\n",
            " [1.0487854e-12 2.5274564e-06 2.6835927e-12 2.0101108e-11 9.9999714e-01\n",
            "  1.3901659e-11 1.2878683e-10 5.0723237e-08 2.2291857e-08 3.3802516e-07]\n",
            " [6.3049885e-11 2.6373732e-12 6.4529312e-11 3.3366018e-10 4.7996989e-09\n",
            "  2.9511193e-10 3.6465807e-13 3.0382120e-11 1.1292509e-09 1.0000000e+00]\n",
            " [4.5928869e-10 7.6900343e-15 3.1472387e-14 2.1892741e-11 1.9744701e-12\n",
            "  6.2189880e-03 9.9363518e-01 4.8205758e-12 1.4581955e-04 1.9682058e-12]]\n",
            "[7 2 1 0 4 1 4 9 5]\n"
          ],
          "name": "stdout"
        }
      ]
    },
    {
      "cell_type": "code",
      "metadata": {
        "id": "CT--y98_dr2T",
        "colab_type": "code",
        "colab": {}
      },
      "source": [
        "layer_dict = dict([(layer.name, layer) for layer in model.layers])\n",
        "#print (layer_dict)\n",
        "\n",
        "# Creates a dictionary of convolution layers outputs with their corresponding layer names. "
      ],
      "execution_count": 0,
      "outputs": []
    },
    {
      "cell_type": "code",
      "metadata": {
        "id": "2GY4Upv4dsUR",
        "colab_type": "code",
        "outputId": "31a6b771-939b-4ede-a830-45b28b8c44de",
        "colab": {
          "base_uri": "https://localhost:8080/",
          "height": 741
        }
      },
      "source": [
        "import numpy as np\n",
        "from matplotlib import pyplot as plt\n",
        "from keras import backend as K\n",
        "%matplotlib inline\n",
        "# util function to convert a tensor into a valid image\n",
        "def deprocess_image(x):\n",
        "    # normalize tensor: center on 0., ensure std is 0.1\n",
        "    x -= x.mean()\n",
        "    x /= (x.std() + 1e-5)\n",
        "    x *= 0.1\n",
        "\n",
        "    # clip to [0, 1]\n",
        "    x += 0.5\n",
        "    x = np.clip(x, 0, 1)\n",
        "\n",
        "    # convert to RGB array\n",
        "    x *= 255\n",
        "    #x = x.transpose((1, 2, 0))\n",
        "    x = np.clip(x, 0, 255).astype('uint8')\n",
        "    return x\n",
        "\n",
        "def vis_img_in_filter(img = np.array(X_train[2]).reshape((1, 28, 28, 1)).astype(np.float64), \n",
        "                      layer_name = 'conv2d_25'):\n",
        "    layer_output = layer_dict[layer_name].output\n",
        "    img_ascs = list()\n",
        "    for filter_index in range(layer_output.shape[3]):\n",
        "        # build a loss function that maximizes the activation\n",
        "        # of the nth filter of the layer considered\n",
        "        loss = K.mean(layer_output[:, :, :, filter_index])\n",
        "\n",
        "        # compute the gradient of the input picture wrt this loss\n",
        "        grads = K.gradients(loss, model.input)[0]\n",
        "\n",
        "        # normalization trick: we normalize the gradient\n",
        "        grads /= (K.sqrt(K.mean(K.square(grads))) + 1e-5)\n",
        "\n",
        "        # this function returns the loss and grads given the input picture\n",
        "        iterate = K.function([model.input], [loss, grads])\n",
        "\n",
        "        # step size for gradient ascent\n",
        "        step = 5.\n",
        "\n",
        "        img_asc = np.array(img)\n",
        "        # run gradient ascent for 20 steps\n",
        "        for i in range(20):\n",
        "            loss_value, grads_value = iterate([img_asc])\n",
        "            img_asc += grads_value * step\n",
        "\n",
        "        img_asc = img_asc[0]\n",
        "        img_ascs.append(deprocess_image(img_asc).reshape((28, 28)))\n",
        "        \n",
        "    if layer_output.shape[3] >= 35:\n",
        "        plot_x, plot_y = 6, 6\n",
        "    elif layer_output.shape[3] >= 23:\n",
        "        plot_x, plot_y = 4, 6\n",
        "    elif layer_output.shape[3] >= 11:\n",
        "        plot_x, plot_y = 2, 6\n",
        "    else:\n",
        "        plot_x, plot_y = 1, 2\n",
        "    fig, ax = plt.subplots(plot_x, plot_y, figsize = (12, 12))\n",
        "    ax[0, 0].imshow(img.reshape((28, 28)), cmap = 'gray')\n",
        "    ax[0, 0].set_title('Input image')\n",
        "    fig.suptitle('Input image and %s filters' % (layer_name,))\n",
        "    fig.tight_layout(pad = 0.3, rect = [0, 0, 0.9, 0.9])\n",
        "    for (x, y) in [(i, j) for i in range(plot_x) for j in range(plot_y)]:\n",
        "        if x == 0 and y == 0:\n",
        "            continue\n",
        "        ax[x, y].imshow(img_ascs[x * plot_y + y - 1], cmap = 'gray')\n",
        "        ax[x, y].set_title('filter %d' % (x * plot_y + y - 1))\n",
        "\n",
        "vis_img_in_filter()\n",
        "\n",
        "\n",
        "# This part of code prints out the the matplot visualizations of any convolution layer, including the input image\n",
        "# and its filter images. We just have to specify the convolution layer name.\n",
        "# deprocess_image() converts the tensor into a valid image\n",
        "# vis_img_in_filter() does the rest of the processing for each filter in a layer."
      ],
      "execution_count": 35,
      "outputs": [
        {
          "output_type": "display_data",
          "data": {
            "image/png": "[encoded data removed]",
            "text/plain": [
              "<Figure size 864x864 with 12 Axes>"
            ]
          },
          "metadata": {
            "tags": []
          }
        }
      ]
    },
    {
      "cell_type": "markdown",
      "metadata": {
        "id": "oKpvGE7fK-44",
        "colab_type": "text"
      },
      "source": [
        "Observations\n",
        "\n",
        "In this network , first of all i added batch normalization after each convolution , except the last one, plus i changed the number of kernels in such way that , the total number of parameters is less than 15k. I tried various numbers between 10 and 20 , and finally reached a network with 14k parameters. I checked the first four epochs , for each networks that i tried , and discarded those nwtorks which was showing less accuracy than the previous highest accuracy network.\n",
        "Finally i increased the number of epochs to 20. By doing this i was able to retain the previous accuracy of 99.15 with a .01 difference in accuracy."
      ]
    }
  ]
}
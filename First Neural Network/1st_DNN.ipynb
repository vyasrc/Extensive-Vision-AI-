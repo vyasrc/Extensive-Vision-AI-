{
  "nbformat": 4,
  "nbformat_minor": 0,
  "metadata": {
    "colab": {
      "name": "1st DNN.ipynb",
      "version": "0.3.2",
      "provenance": [],
      "collapsed_sections": []
    },
    "kernelspec": {
      "name": "python3",
      "display_name": "Python 3"
    },
    "accelerator": "GPU"
  },
  "cells": [
    {
      "cell_type": "markdown",
      "metadata": {
        "id": "aNyZv-Ec52ot",
        "colab_type": "text"
      },
      "source": [
        "# **Import Libraries and modules**"
      ]
    },
    {
      "cell_type": "code",
      "metadata": {
        "id": "3m3w1Cw49Zkt",
        "colab_type": "code",
        "colab": {}
      },
      "source": [
        "# https://keras.io/\n",
        "!pip install -q keras\n",
        "import keras\n",
        "\n",
        "# Keras is a high-level neural networks API, written in Python and capable of running on top of TensorFlow, CNTK, or Theano. \n",
        "# It was developed with a focus on enabling fast experimentation. Being able to go from idea to result with the least possible \n",
        "# delay is key to doing good research."
      ],
      "execution_count": 0,
      "outputs": []
    },
    {
      "cell_type": "code",
      "metadata": {
        "id": "Eso6UHE080D4",
        "colab_type": "code",
        "colab": {}
      },
      "source": [
        "import numpy as np\n",
        "\n",
        "from keras.models import Sequential\n",
        "from keras.layers import Dense, Dropout, Activation, Flatten, Add\n",
        "from keras.layers import Convolution2D, MaxPooling2D\n",
        "from keras.utils import np_utils\n",
        "\n",
        "from keras.datasets import mnist\n",
        "\n",
        "# NumPy is a library for the Python programming language, adding support for large, multi-dimensional arrays and matrices,\n",
        "# along with a large collection of high-level mathematical functions to operate on these arrays.\n",
        "# Sequential - It creates a model that is a linear stack of layers.\n",
        "# Flatten - It flattens the input and also it does not affect the batch size.\n",
        "# Convolution2D - This actually performs the 2D convolution on the input vector and produce the convoluted output.\n",
        "# Dense - It implements the operation that is output i equal to activation(dot(input, kernel) + bias) where activation is the element-wise\n",
        "# activation function passed as the activation argument, kernel is a weights matrix created by the layer, \n",
        "# and bias is a bias vector created by the layer. \n",
        "# Dropout - It applies Dropout to the input. It consists of randomly setting a fraction rate of input units to 0 at each update during \n",
        "# training time, which helps prevent overfitting."
      ],
      "execution_count": 0,
      "outputs": []
    },
    {
      "cell_type": "markdown",
      "metadata": {
        "id": "zByEi95J86RD",
        "colab_type": "text"
      },
      "source": [
        "### Load pre-shuffled MNIST data into train and test sets"
      ]
    },
    {
      "cell_type": "code",
      "metadata": {
        "id": "7eRM0QWN83PV",
        "colab_type": "code",
        "colab": {}
      },
      "source": [
        "(X_train, y_train), (X_test, y_test) = mnist.load_data()\n",
        "\n",
        "# Loads the mnist training and testing data into respective variables."
      ],
      "execution_count": 0,
      "outputs": []
    },
    {
      "cell_type": "code",
      "metadata": {
        "id": "4a4Be72j8-ZC",
        "colab_type": "code",
        "outputId": "ea210b04-5a8f-495c-9594-a43393e9b225",
        "colab": {
          "base_uri": "https://localhost:8080/",
          "height": 304
        }
      },
      "source": [
        "print (X_train.shape)\n",
        "from matplotlib import pyplot as plt\n",
        "%matplotlib inline\n",
        "plt.imshow(X_train[0])\n",
        "\n",
        "# Matplotlib is a Python 2D plotting library which produces publication quality figures \n",
        "# in a variety of hardcopy formats and interactive environments across platforms. \n",
        "# Here we use it to show an example of how an image in a mnist training data looks like."
      ],
      "execution_count": 6,
      "outputs": [
        {
          "output_type": "stream",
          "text": [
            "(60000, 28, 28)\n"
          ],
          "name": "stdout"
        },
        {
          "output_type": "execute_result",
          "data": {
            "text/plain": [
              "<matplotlib.image.AxesImage at 0x7fc2083abd30>"
            ]
          },
          "metadata": {
            "tags": []
          },
          "execution_count": 6
        },
        {
          "output_type": "display_data",
          "data": {
            "image/png": "[encoded data removed]",
            "text/plain": [
              "<Figure size 432x288 with 1 Axes>"
            ]
          },
          "metadata": {
            "tags": []
          }
        }
      ]
    },
    {
      "cell_type": "code",
      "metadata": {
        "id": "dkmprriw9AnZ",
        "colab_type": "code",
        "colab": {}
      },
      "source": [
        "X_train = X_train.reshape(X_train.shape[0], 28, 28,1)\n",
        "X_test = X_test.reshape(X_test.shape[0], 28, 28,1)\n",
        "\n",
        "# numpy.reshape() gives a new shape to an array without changing its data.\n",
        "# Here it is done to indicate the the number of color channels , here it is 1 as it is a grayscale image.\n",
        "# If it was a RGB it will be changed to 3."
      ],
      "execution_count": 0,
      "outputs": []
    },
    {
      "cell_type": "code",
      "metadata": {
        "id": "X2m4YS4E9CRh",
        "colab_type": "code",
        "colab": {}
      },
      "source": [
        "X_train = X_train.astype('float32')\n",
        "X_test = X_test.astype('float32')\n",
        "X_train /= 255\n",
        "X_test /= 255\n",
        "\n",
        "# ndarray.astype() is used to cast a copy of the array to a specified type.\n",
        "# And we divide the whole training and testing data by 255 to normalise it to values between 0 and 1."
      ],
      "execution_count": 0,
      "outputs": []
    },
    {
      "cell_type": "code",
      "metadata": {
        "id": "0Mn0vAYD9DvB",
        "colab_type": "code",
        "outputId": "483e0852-9cd1-4322-8601-efedc1d469e1",
        "colab": {
          "base_uri": "https://localhost:8080/",
          "height": 35
        }
      },
      "source": [
        "y_train[:10]\n",
        "\n",
        "# Here we print the training outputs to check whether all 10 distinct outputs are there or not."
      ],
      "execution_count": 9,
      "outputs": [
        {
          "output_type": "execute_result",
          "data": {
            "text/plain": [
              "array([5, 0, 4, 1, 9, 2, 1, 3, 1, 4], dtype=uint8)"
            ]
          },
          "metadata": {
            "tags": []
          },
          "execution_count": 9
        }
      ]
    },
    {
      "cell_type": "code",
      "metadata": {
        "id": "ZG8JiXR39FHC",
        "colab_type": "code",
        "colab": {}
      },
      "source": [
        "# Convert 1-dimensional class arrays to 10-dimensional class matrices\n",
        "Y_train = np_utils.to_categorical(y_train, 10)\n",
        "Y_test = np_utils.to_categorical(y_test, 10)\n",
        "\n",
        "# to_categorical - Converts a class vector (integers) to binary class matrix.\n",
        "# It returns binary matrix representation of the input, where the bit corresponding to each class number wiil be 1 and \n",
        "# everything else is 0."
      ],
      "execution_count": 0,
      "outputs": []
    },
    {
      "cell_type": "code",
      "metadata": {
        "id": "fYlFRvKS9HMB",
        "colab_type": "code",
        "outputId": "df045f49-5df9-4a73-d237-bf1aa90690f3",
        "colab": {
          "base_uri": "https://localhost:8080/",
          "height": 191
        }
      },
      "source": [
        "Y_train[:10]\n",
        "\n",
        "# Here we print out the binary matrix representation of the training output. \n"
      ],
      "execution_count": 11,
      "outputs": [
        {
          "output_type": "execute_result",
          "data": {
            "text/plain": [
              "array([[0., 0., 0., 0., 0., 1., 0., 0., 0., 0.],\n",
              "       [1., 0., 0., 0., 0., 0., 0., 0., 0., 0.],\n",
              "       [0., 0., 0., 0., 1., 0., 0., 0., 0., 0.],\n",
              "       [0., 1., 0., 0., 0., 0., 0., 0., 0., 0.],\n",
              "       [0., 0., 0., 0., 0., 0., 0., 0., 0., 1.],\n",
              "       [0., 0., 1., 0., 0., 0., 0., 0., 0., 0.],\n",
              "       [0., 1., 0., 0., 0., 0., 0., 0., 0., 0.],\n",
              "       [0., 0., 0., 1., 0., 0., 0., 0., 0., 0.],\n",
              "       [0., 1., 0., 0., 0., 0., 0., 0., 0., 0.],\n",
              "       [0., 0., 0., 0., 1., 0., 0., 0., 0., 0.]], dtype=float32)"
            ]
          },
          "metadata": {
            "tags": []
          },
          "execution_count": 11
        }
      ]
    },
    {
      "cell_type": "code",
      "metadata": {
        "id": "osKqT73Q9JJB",
        "colab_type": "code",
        "outputId": "a3dc8ce4-5153-4339-e318-0e738a36c7f3",
        "colab": {
          "base_uri": "https://localhost:8080/",
          "height": 263
        }
      },
      "source": [
        "from keras.layers import Activation\n",
        "from keras.layers.normalization import BatchNormalization\n",
        "model = Sequential()\n",
        "\n",
        " \n",
        "model.add(Convolution2D(32, 3, 3, activation='relu', use_bias = False, input_shape=(28,28,1)))\n",
        "model.add(BatchNormalization())\n",
        "#model.add(Convolution2D(16, 3, 3, activation='relu', use_bias = False))\n",
        "#model.add(Convolution2D(16, 3, 3, activation='relu', use_bias = False))\n",
        "model.add(MaxPooling2D(pool_size=(2, 2)))\n",
        "model.add(Convolution2D(8, 1, 1, activation='relu', use_bias = False))\n",
        "model.add(Convolution2D(8, 3, 3, activation='relu', use_bias = False))\n",
        "model.add(BatchNormalization())\n",
        "#model.add(MaxPooling2D(pool_size=(2, 2)))\n",
        "#model.add(Convolution2D(16, 1, 1, activation='relu', use_bias = False))\n",
        "model.add(Convolution2D(16, 3, 3, activation='relu', use_bias = False))\n",
        "model.add(Convolution2D(16, 3, 3, activation='relu', use_bias = False))\n",
        "#model.add(MaxPooling2D(pool_size=(2, 2)))\n",
        "model.add(BatchNormalization())\n",
        "model.add(Convolution2D(32, 3, 3, activation='relu', use_bias = False))\n",
        "model.add(Convolution2D(32, 3, 3, activation='relu', use_bias = False))\n",
        "#model.add(BatchNormalization())\n",
        "model.add(Convolution2D(10, 1, 1, activation='relu', use_bias = False))\n",
        "model.add(Convolution2D(10, 3, 3, use_bias = False))\n",
        "model.add(Flatten())\n",
        "model.add(BatchNormalization())\n",
        "model.add(Activation('softmax'))\n",
        "\n",
        "\n",
        "# As we know Sequential creates a model that is a linear stack of layers.model.add() adds layers one by one  in this stack.\n",
        "# Activation - It can be used through an Activation layer, or through the activation argument supported by all forward layers.\n",
        "# Here we use 'relu 'in the argument of add(). ReLU converts all the pixel values between [-1,1] to [0,1].\n",
        "# MaxPooling2D - It performs Max pooling operation for spatial data. Here we spcify 2x2 maxpooling , therefore it will take the max \n",
        "# value of various 2x2 sections of the image , and the output size of the image will reduce by half or else in other words \n",
        "# we filter out 75% of data. \n",
        "# At last we flatten the data using Flatten() and using softmax activation to get the final output.\n",
        "# Softmax - It is used because some vector components could be negative, or greater than one; and might not sum to 1, but after applying \n",
        "# softmax,each component will be in the interval (0,1), and the components will add up to 1, so that they can be interpreted as probabilities.\n",
        "# And during prediction the highest probability one will be taken as the output and if this matches the ground truth , \n",
        "# we have a correct prediction , otherwise a false prediction.\n",
        "# The first argument of the Convolution2D is the number of 3x3 filters that is used in that layer\n",
        "# summary() prints the summary of the whole network."
      ],
      "execution_count": 55,
      "outputs": [
        {
          "output_type": "stream",
          "text": [
            "/usr/local/lib/python3.6/dist-packages/ipykernel_launcher.py:6: UserWarning: Update your `Conv2D` call to the Keras 2 API: `Conv2D(32, (3, 3), activation=\"relu\", use_bias=False, input_shape=(28, 28, 1...)`\n",
            "  \n",
            "/usr/local/lib/python3.6/dist-packages/ipykernel_launcher.py:11: UserWarning: Update your `Conv2D` call to the Keras 2 API: `Conv2D(8, (1, 1), activation=\"relu\", use_bias=False)`\n",
            "  # This is added back by InteractiveShellApp.init_path()\n",
            "/usr/local/lib/python3.6/dist-packages/ipykernel_launcher.py:12: UserWarning: Update your `Conv2D` call to the Keras 2 API: `Conv2D(8, (3, 3), activation=\"relu\", use_bias=False)`\n",
            "  if sys.path[0] == '':\n",
            "/usr/local/lib/python3.6/dist-packages/ipykernel_launcher.py:16: UserWarning: Update your `Conv2D` call to the Keras 2 API: `Conv2D(16, (3, 3), activation=\"relu\", use_bias=False)`\n",
            "  app.launch_new_instance()\n",
            "/usr/local/lib/python3.6/dist-packages/ipykernel_launcher.py:17: UserWarning: Update your `Conv2D` call to the Keras 2 API: `Conv2D(16, (3, 3), activation=\"relu\", use_bias=False)`\n",
            "/usr/local/lib/python3.6/dist-packages/ipykernel_launcher.py:20: UserWarning: Update your `Conv2D` call to the Keras 2 API: `Conv2D(32, (3, 3), activation=\"relu\", use_bias=False)`\n",
            "/usr/local/lib/python3.6/dist-packages/ipykernel_launcher.py:21: UserWarning: Update your `Conv2D` call to the Keras 2 API: `Conv2D(32, (3, 3), activation=\"relu\", use_bias=False)`\n",
            "/usr/local/lib/python3.6/dist-packages/ipykernel_launcher.py:23: UserWarning: Update your `Conv2D` call to the Keras 2 API: `Conv2D(10, (1, 1), activation=\"relu\", use_bias=False)`\n",
            "/usr/local/lib/python3.6/dist-packages/ipykernel_launcher.py:24: UserWarning: Update your `Conv2D` call to the Keras 2 API: `Conv2D(10, (3, 3), use_bias=False)`\n"
          ],
          "name": "stderr"
        }
      ]
    },
    {
      "cell_type": "code",
      "metadata": {
        "id": "TzdAYg1k9K7Z",
        "colab_type": "code",
        "outputId": "73c62be2-e999-4f0e-b5ff-ef650d90c30e",
        "colab": {
          "base_uri": "https://localhost:8080/",
          "height": 693
        }
      },
      "source": [
        "model.summary()"
      ],
      "execution_count": 56,
      "outputs": [
        {
          "output_type": "stream",
          "text": [
            "_________________________________________________________________\n",
            "Layer (type)                 Output Shape              Param #   \n",
            "=================================================================\n",
            "conv2d_73 (Conv2D)           (None, 26, 26, 32)        288       \n",
            "_________________________________________________________________\n",
            "batch_normalization_35 (Batc (None, 26, 26, 32)        128       \n",
            "_________________________________________________________________\n",
            "max_pooling2d_9 (MaxPooling2 (None, 13, 13, 32)        0         \n",
            "_________________________________________________________________\n",
            "conv2d_74 (Conv2D)           (None, 13, 13, 8)         256       \n",
            "_________________________________________________________________\n",
            "conv2d_75 (Conv2D)           (None, 11, 11, 8)         576       \n",
            "_________________________________________________________________\n",
            "batch_normalization_36 (Batc (None, 11, 11, 8)         32        \n",
            "_________________________________________________________________\n",
            "conv2d_76 (Conv2D)           (None, 9, 9, 16)          1152      \n",
            "_________________________________________________________________\n",
            "conv2d_77 (Conv2D)           (None, 7, 7, 16)          2304      \n",
            "_________________________________________________________________\n",
            "batch_normalization_37 (Batc (None, 7, 7, 16)          64        \n",
            "_________________________________________________________________\n",
            "conv2d_78 (Conv2D)           (None, 5, 5, 32)          4608      \n",
            "_________________________________________________________________\n",
            "conv2d_79 (Conv2D)           (None, 3, 3, 32)          9216      \n",
            "_________________________________________________________________\n",
            "conv2d_80 (Conv2D)           (None, 3, 3, 10)          320       \n",
            "_________________________________________________________________\n",
            "conv2d_81 (Conv2D)           (None, 1, 1, 10)          900       \n",
            "_________________________________________________________________\n",
            "flatten_9 (Flatten)          (None, 10)                0         \n",
            "_________________________________________________________________\n",
            "batch_normalization_38 (Batc (None, 10)                40        \n",
            "_________________________________________________________________\n",
            "activation_9 (Activation)    (None, 10)                0         \n",
            "=================================================================\n",
            "Total params: 19,884\n",
            "Trainable params: 19,752\n",
            "Non-trainable params: 132\n",
            "_________________________________________________________________\n"
          ],
          "name": "stdout"
        }
      ]
    },
    {
      "cell_type": "code",
      "metadata": {
        "id": "Zp6SuGrL9M3h",
        "colab_type": "code",
        "colab": {}
      },
      "source": [
        "model.compile(loss='categorical_crossentropy',\n",
        "             optimizer='adam',\n",
        "             metrics=['accuracy'])\n",
        "\n",
        "# complile() configures the model for training and we define what all metrics is calculated during training, \n",
        "# here its accurancy only.\n",
        "# categorical_crossentropy- It is a Softmax activation plus a Cross-Entropy loss. If we use this loss, we will train a CNN \n",
        "# to output a probability over the C-classes for each image.\n",
        "# Since we have mulitple classes , we use categorical crossentropy to calculate the loss.\n",
        "# Adam - Adam is an optimization algorithm that can used to update network weights iterative based in training data.\n",
        "# After calculating the loss, we use adam with the help of the categorical_crossentropy loss calculated of the training data."
      ],
      "execution_count": 0,
      "outputs": []
    },
    {
      "cell_type": "code",
      "metadata": {
        "id": "4xWoKhPY9Of5",
        "colab_type": "code",
        "outputId": "5c122b12-3e6a-4779-aa73-fe034f7120d7",
        "colab": {
          "base_uri": "https://localhost:8080/",
          "height": 780
        }
      },
      "source": [
        "model.fit(X_train, Y_train, batch_size=32, nb_epoch=20, verbose=1, validation_split = 0.2)\n",
        "\n",
        "# fit() trains the above model for a given number of epochs.\n",
        "# Epochs are the number of iterations on a dataset.\n",
        "# We also define batch size = 32 , which the number of images passed through the network for each epoch.\n",
        "# verbose is set to 1 so that we can see the progess bar."
      ],
      "execution_count": 58,
      "outputs": [
        {
          "output_type": "stream",
          "text": [
            "/usr/local/lib/python3.6/dist-packages/ipykernel_launcher.py:1: UserWarning: The `nb_epoch` argument in `fit` has been renamed `epochs`.\n",
            "  \"\"\"Entry point for launching an IPython kernel.\n"
          ],
          "name": "stderr"
        },
        {
          "output_type": "stream",
          "text": [
            "Train on 48000 samples, validate on 12000 samples\n",
            "Epoch 1/20\n",
            "48000/48000 [==============================] - 15s 313us/step - loss: 0.4505 - acc: 0.9137 - val_loss: 0.1296 - val_acc: 0.9765\n",
            "Epoch 2/20\n",
            "48000/48000 [==============================] - 13s 267us/step - loss: 0.1610 - acc: 0.9698 - val_loss: 0.0755 - val_acc: 0.9826\n",
            "Epoch 3/20\n",
            "48000/48000 [==============================] - 13s 265us/step - loss: 0.1093 - acc: 0.9770 - val_loss: 0.0783 - val_acc: 0.9838\n",
            "Epoch 4/20\n",
            "48000/48000 [==============================] - 14s 283us/step - loss: 0.0815 - acc: 0.9819 - val_loss: 0.0482 - val_acc: 0.9873\n",
            "Epoch 5/20\n",
            "48000/48000 [==============================] - 13s 277us/step - loss: 0.0638 - acc: 0.9857 - val_loss: 0.0472 - val_acc: 0.9880\n",
            "Epoch 6/20\n",
            "48000/48000 [==============================] - 13s 266us/step - loss: 0.0531 - acc: 0.9881 - val_loss: 0.0410 - val_acc: 0.9894\n",
            "Epoch 7/20\n",
            "48000/48000 [==============================] - 13s 266us/step - loss: 0.0452 - acc: 0.9888 - val_loss: 0.0383 - val_acc: 0.9892\n",
            "Epoch 8/20\n",
            "48000/48000 [==============================] - 13s 267us/step - loss: 0.0416 - acc: 0.9896 - val_loss: 0.0351 - val_acc: 0.9902\n",
            "Epoch 9/20\n",
            "48000/48000 [==============================] - 13s 267us/step - loss: 0.0350 - acc: 0.9911 - val_loss: 0.0358 - val_acc: 0.9903\n",
            "Epoch 10/20\n",
            "48000/48000 [==============================] - 13s 276us/step - loss: 0.0322 - acc: 0.9921 - val_loss: 0.0363 - val_acc: 0.9898\n",
            "Epoch 11/20\n",
            "48000/48000 [==============================] - 14s 285us/step - loss: 0.0301 - acc: 0.9927 - val_loss: 0.0339 - val_acc: 0.9903\n",
            "Epoch 12/20\n",
            "48000/48000 [==============================] - 13s 266us/step - loss: 0.0276 - acc: 0.9929 - val_loss: 0.0344 - val_acc: 0.9902\n",
            "Epoch 13/20\n",
            "48000/48000 [==============================] - 13s 265us/step - loss: 0.0243 - acc: 0.9936 - val_loss: 0.0298 - val_acc: 0.9914\n",
            "Epoch 14/20\n",
            "48000/48000 [==============================] - 13s 265us/step - loss: 0.0229 - acc: 0.9942 - val_loss: 0.0355 - val_acc: 0.9897\n",
            "Epoch 15/20\n",
            "48000/48000 [==============================] - 13s 266us/step - loss: 0.0221 - acc: 0.9943 - val_loss: 0.0348 - val_acc: 0.9908\n",
            "Epoch 16/20\n",
            "48000/48000 [==============================] - 13s 266us/step - loss: 0.0202 - acc: 0.9950 - val_loss: 0.0308 - val_acc: 0.9908\n",
            "Epoch 17/20\n",
            "48000/48000 [==============================] - 14s 293us/step - loss: 0.0175 - acc: 0.9952 - val_loss: 0.0349 - val_acc: 0.9904\n",
            "Epoch 18/20\n",
            "48000/48000 [==============================] - 13s 266us/step - loss: 0.0185 - acc: 0.9948 - val_loss: 0.0323 - val_acc: 0.9904\n",
            "Epoch 19/20\n",
            "48000/48000 [==============================] - 13s 265us/step - loss: 0.0154 - acc: 0.9959 - val_loss: 0.0347 - val_acc: 0.9917\n",
            "Epoch 20/20\n",
            "48000/48000 [==============================] - 13s 266us/step - loss: 0.0157 - acc: 0.9961 - val_loss: 0.0311 - val_acc: 0.9918\n"
          ],
          "name": "stdout"
        },
        {
          "output_type": "execute_result",
          "data": {
            "text/plain": [
              "<keras.callbacks.History at 0x7fc1bdbfb5f8>"
            ]
          },
          "metadata": {
            "tags": []
          },
          "execution_count": 58
        }
      ]
    },
    {
      "cell_type": "code",
      "metadata": {
        "id": "AtsH-lLk-eLb",
        "colab_type": "code",
        "colab": {}
      },
      "source": [
        "score = model.evaluate(X_test, Y_test, verbose=0)\n",
        "\n",
        "# evaluvate() returns the loss value & accuracy for the model in test mode.\n",
        "# Here also computation is done in batches."
      ],
      "execution_count": 0,
      "outputs": []
    },
    {
      "cell_type": "code",
      "metadata": {
        "id": "mkX8JMv79q9r",
        "colab_type": "code",
        "outputId": "0053045a-f399-41f4-e2ad-a71832f0cf7a",
        "colab": {
          "base_uri": "https://localhost:8080/",
          "height": 35
        }
      },
      "source": [
        "print(score)\n",
        "\n",
        "# Here we the test score , which is a list of scalars which includes loss and accuracy."
      ],
      "execution_count": 60,
      "outputs": [
        {
          "output_type": "stream",
          "text": [
            "[0.028069334036204964, 0.9932]\n"
          ],
          "name": "stdout"
        }
      ]
    },
    {
      "cell_type": "code",
      "metadata": {
        "id": "OCWoJkwE9suh",
        "colab_type": "code",
        "colab": {}
      },
      "source": [
        "y_pred = model.predict(X_test)\n",
        "\n",
        "# predict() generates output predictions for the input samples.\n",
        "# Here also computation is done in batches."
      ],
      "execution_count": 0,
      "outputs": []
    },
    {
      "cell_type": "code",
      "metadata": {
        "id": "Ym7iCFBm9uBs",
        "colab_type": "code",
        "outputId": "9396f4c6-a7e2-4d6d-b975-e24b1f601998",
        "colab": {
          "base_uri": "https://localhost:8080/",
          "height": 503
        }
      },
      "source": [
        "print(y_pred[:9])\n",
        "print(y_test[:9])\n",
        "\n",
        "# Here we print the output predictions from the model and the outputs from the ground truth, \n",
        "# to check how much correct predictions we got."
      ],
      "execution_count": 0,
      "outputs": [
        {
          "output_type": "stream",
          "text": [
            "[[3.37909633e-17 3.55268903e-21 5.59078096e-11 1.91730687e-10\n",
            "  1.52657210e-27 1.31130396e-24 8.62701534e-32 1.00000000e+00\n",
            "  3.10044300e-17 7.99942838e-12]\n",
            " [4.82735669e-22 4.11242106e-17 1.00000000e+00 1.74137554e-24\n",
            "  4.27515153e-23 2.29647694e-28 6.63461527e-13 7.35231329e-21\n",
            "  7.45983374e-22 3.56932612e-23]\n",
            " [1.68055787e-17 1.00000000e+00 6.07754136e-14 2.78953293e-13\n",
            "  1.10352061e-10 4.82193840e-10 1.45849383e-13 2.54674347e-13\n",
            "  5.77487391e-09 3.88747736e-13]\n",
            " [1.00000000e+00 2.55805529e-22 8.58915364e-17 2.02234590e-22\n",
            "  6.03357739e-23 9.36828763e-17 2.52892081e-13 5.82113299e-20\n",
            "  1.01383036e-17 2.14456884e-13]\n",
            " [1.57423818e-19 1.57376314e-20 6.81112976e-19 4.71042766e-21\n",
            "  1.00000000e+00 1.95572025e-20 3.93696599e-16 1.60990083e-24\n",
            "  2.00213761e-12 7.16080806e-10]\n",
            " [6.98145365e-21 1.00000000e+00 4.12222780e-14 1.68189919e-16\n",
            "  7.77625273e-12 2.41470247e-16 4.01194798e-18 1.04245382e-13\n",
            "  5.30700137e-12 5.61816710e-15]\n",
            " [1.04397694e-30 1.21502257e-16 5.41182130e-18 1.90960622e-21\n",
            "  1.00000000e+00 2.02952085e-19 2.13471756e-24 1.01286736e-18\n",
            "  2.80269159e-08 1.79483199e-11]\n",
            " [8.04230282e-25 2.52295116e-17 2.52580058e-14 8.26936904e-19\n",
            "  5.17770182e-08 6.72103650e-16 1.40757676e-22 5.46859701e-19\n",
            "  2.35577942e-13 1.00000000e+00]\n",
            " [1.37429309e-16 1.95334970e-20 5.55078227e-17 1.42491443e-21\n",
            "  2.36014349e-16 6.39296174e-01 3.60701770e-01 7.60485460e-21\n",
            "  2.06068148e-06 1.01874475e-13]]\n",
            "[7 2 1 0 4 1 4 9 5]\n"
          ],
          "name": "stdout"
        }
      ]
    },
    {
      "cell_type": "code",
      "metadata": {
        "id": "CT--y98_dr2T",
        "colab_type": "code",
        "colab": {}
      },
      "source": [
        "layer_dict = dict([(layer.name, layer) for layer in model.layers])\n",
        "#print (layer_dict)\n",
        "\n",
        "# Creates a dictionary of convolution layers outputs with their corresponding layer names. "
      ],
      "execution_count": 0,
      "outputs": []
    },
    {
      "cell_type": "code",
      "metadata": {
        "id": "2GY4Upv4dsUR",
        "colab_type": "code",
        "outputId": "85dc505d-6e78-4dd3-a210-ba57c350b5a6",
        "colab": {
          "base_uri": "https://localhost:8080/",
          "height": 741
        }
      },
      "source": [
        "import numpy as np\n",
        "from matplotlib import pyplot as plt\n",
        "from keras import backend as K\n",
        "%matplotlib inline\n",
        "# util function to convert a tensor into a valid image\n",
        "def deprocess_image(x):\n",
        "    # normalize tensor: center on 0., ensure std is 0.1\n",
        "    x -= x.mean()\n",
        "    x /= (x.std() + 1e-5)\n",
        "    x *= 0.1\n",
        "\n",
        "    # clip to [0, 1]\n",
        "    x += 0.5\n",
        "    x = np.clip(x, 0, 1)\n",
        "\n",
        "    # convert to RGB array\n",
        "    x *= 255\n",
        "    #x = x.transpose((1, 2, 0))\n",
        "    x = np.clip(x, 0, 255).astype('uint8')\n",
        "    return x\n",
        "\n",
        "def vis_img_in_filter(img = np.array(X_train[2]).reshape((1, 28, 28, 1)).astype(np.float64), \n",
        "                      layer_name = 'conv2d_325'):\n",
        "    layer_output = layer_dict[layer_name].output\n",
        "    img_ascs = list()\n",
        "    for filter_index in range(layer_output.shape[3]):\n",
        "        # build a loss function that maximizes the activation\n",
        "        # of the nth filter of the layer considered\n",
        "        loss = K.mean(layer_output[:, :, :, filter_index])\n",
        "\n",
        "        # compute the gradient of the input picture wrt this loss\n",
        "        grads = K.gradients(loss, model.input)[0]\n",
        "\n",
        "        # normalization trick: we normalize the gradient\n",
        "        grads /= (K.sqrt(K.mean(K.square(grads))) + 1e-5)\n",
        "\n",
        "        # this function returns the loss and grads given the input picture\n",
        "        iterate = K.function([model.input], [loss, grads])\n",
        "\n",
        "        # step size for gradient ascent\n",
        "        step = 5.\n",
        "\n",
        "        img_asc = np.array(img)\n",
        "        # run gradient ascent for 20 steps\n",
        "        for i in range(20):\n",
        "            loss_value, grads_value = iterate([img_asc])\n",
        "            img_asc += grads_value * step\n",
        "\n",
        "        img_asc = img_asc[0]\n",
        "        img_ascs.append(deprocess_image(img_asc).reshape((28, 28)))\n",
        "        \n",
        "    if layer_output.shape[3] >= 35:\n",
        "        plot_x, plot_y = 6, 6\n",
        "    elif layer_output.shape[3] >= 23:\n",
        "        plot_x, plot_y = 4, 6\n",
        "    elif layer_output.shape[3] >= 11:\n",
        "        plot_x, plot_y = 2, 6\n",
        "    else:\n",
        "        plot_x, plot_y = 1, 2\n",
        "    fig, ax = plt.subplots(plot_x, plot_y, figsize = (12, 12))\n",
        "    ax[0, 0].imshow(img.reshape((28, 28)), cmap = 'gray')\n",
        "    ax[0, 0].set_title('Input image')\n",
        "    fig.suptitle('Input image and %s filters' % (layer_name,))\n",
        "    fig.tight_layout(pad = 0.3, rect = [0, 0, 0.9, 0.9])\n",
        "    for (x, y) in [(i, j) for i in range(plot_x) for j in range(plot_y)]:\n",
        "        if x == 0 and y == 0:\n",
        "            continue\n",
        "        ax[x, y].imshow(img_ascs[x * plot_y + y - 1], cmap = 'gray')\n",
        "        ax[x, y].set_title('filter %d' % (x * plot_y + y - 1))\n",
        "\n",
        "vis_img_in_filter()\n",
        "\n",
        "\n",
        "# This part of code prints out the the matplot visualizations of any convolution layer, including the input image\n",
        "# and its filter images. We just have to specify the convolution layer name.\n",
        "# deprocess_image() converts the tensor into a valid image\n",
        "# vis_img_in_filter() does the rest of the processing for each filter in a layer."
      ],
      "execution_count": 0,
      "outputs": [
        {
          "output_type": "display_data",
          "data": {
            "image/png": "[encoded data removed]",
            "text/plain": [
              "<Figure size 864x864 with 12 Axes>"
            ]
          },
          "metadata": {
            "tags": []
          }
        }
      ]
    },
    {
      "cell_type": "code",
      "metadata": {
        "id": "9tvptcn8dxvp",
        "colab_type": "code",
        "colab": {}
      },
      "source": [
        ""
      ],
      "execution_count": 0,
      "outputs": []
    }
  ]
}
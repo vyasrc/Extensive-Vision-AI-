{
  "nbformat": 4,
  "nbformat_minor": 0,
  "metadata": {
    "colab": {
      "name": "Session2_Assignent.ipynb",
      "version": "0.3.2",
      "provenance": [],
      "collapsed_sections": []
    },
    "kernelspec": {
      "name": "python3",
      "display_name": "Python 3"
    },
    "accelerator": "GPU"
  },
  "cells": [
    {
      "cell_type": "markdown",
      "metadata": {
        "id": "-nJ7YEw_vyjG",
        "colab_type": "text"
      },
      "source": [
        "# **Not an ideal network**"
      ]
    },
    {
      "cell_type": "code",
      "metadata": {
        "id": "kGWv5hBhv2jf",
        "colab_type": "code",
        "colab": {}
      },
      "source": [
        "# https://keras.io/\n",
        "!pip install -q keras\n",
        "import keras\n",
        "\n",
        "# Keras is a high-level neural networks API, written in Python and capable of running on top of TensorFlow, CNTK, or Theano. \n",
        "# It was developed with a focus on enabling fast experimentation. Being able to go from idea to result with the least possible \n",
        "# delay is key to doing good research.\n",
        "\n"
      ],
      "execution_count": 0,
      "outputs": []
    },
    {
      "cell_type": "code",
      "metadata": {
        "id": "wnMlDJQKv4VG",
        "colab_type": "code",
        "colab": {}
      },
      "source": [
        "import numpy as np\n",
        "\n",
        "from keras.models import Sequential\n",
        "from keras.layers import Flatten\n",
        "from keras.layers import Convolution2D\n",
        "from keras.utils import np_utils\n",
        "\n",
        "from keras.datasets import mnist\n",
        "\n",
        "# NumPy is a library for the Python programming language, adding support for large, multi-dimensional arrays and matrices,\n",
        "# along with a large collection of high-level mathematical functions to operate on these arrays.\n",
        "# Sequential - It creates a model that is a linear stack of layers.\n",
        "# Flatten - It flattens the input and also it does not affect the batch size.\n",
        "# Convolution2D - This actually performs the 2D convolution on the input vector and produce the convoluted output."
      ],
      "execution_count": 0,
      "outputs": []
    },
    {
      "cell_type": "code",
      "metadata": {
        "id": "8CdSu2lMwB9s",
        "colab_type": "code",
        "colab": {
          "base_uri": "https://localhost:8080/",
          "height": 52
        },
        "outputId": "8740ad3b-559d-488d-c9bf-15f1e509a305"
      },
      "source": [
        "(X_train, y_train), (X_test, y_test) = mnist.load_data()\n",
        "\n",
        "# Loads the mnist training and testing data into respective variables."
      ],
      "execution_count": 4,
      "outputs": [
        {
          "output_type": "stream",
          "text": [
            "Downloading data from https://s3.amazonaws.com/img-datasets/mnist.npz\n",
            "11493376/11490434 [==============================] - 0s 0us/step\n"
          ],
          "name": "stdout"
        }
      ]
    },
    {
      "cell_type": "code",
      "metadata": {
        "id": "tLaDf0-rwCmj",
        "colab_type": "code",
        "outputId": "3023dd0f-8630-49f9-86db-1dfe34958610",
        "colab": {
          "base_uri": "https://localhost:8080/",
          "height": 304
        }
      },
      "source": [
        "print (X_train.shape)\n",
        "from matplotlib import pyplot as plt\n",
        "%matplotlib inline\n",
        "plt.imshow(X_train[0])\n",
        "\n",
        "# Matplotlib is a Python 2D plotting library which produces publication quality figures \n",
        "# in a variety of hardcopy formats and interactive environments across platforms. \n",
        "# Here we use it to show an example of how an image in a mnist training data looks like."
      ],
      "execution_count": 5,
      "outputs": [
        {
          "output_type": "stream",
          "text": [
            "(60000, 28, 28)\n"
          ],
          "name": "stdout"
        },
        {
          "output_type": "execute_result",
          "data": {
            "text/plain": [
              "<matplotlib.image.AxesImage at 0x7fa1bee3eb38>"
            ]
          },
          "metadata": {
            "tags": []
          },
          "execution_count": 5
        },
        {
          "output_type": "display_data",
          "data": {
            "image/png": "[encoded data removed]",
            "text/plain": [
              "<Figure size 432x288 with 1 Axes>"
            ]
          },
          "metadata": {
            "tags": []
          }
        }
      ]
    },
    {
      "cell_type": "code",
      "metadata": {
        "id": "erb11jNwwFwl",
        "colab_type": "code",
        "colab": {}
      },
      "source": [
        "X_train = X_train.reshape(X_train.shape[0], 28, 28,1)\n",
        "X_test = X_test.reshape(X_test.shape[0], 28, 28,1)\n",
        "\n",
        "# numpy.reshape() gives a new shape to an array without changing its data.\n",
        "# Here it is done to indicate the the number of color channels , here it is 1 as it is a grayscale image.\n",
        "# If it was a RGB it will be changed to 3."
      ],
      "execution_count": 0,
      "outputs": []
    },
    {
      "cell_type": "code",
      "metadata": {
        "id": "RLK4YDoRwHet",
        "colab_type": "code",
        "colab": {}
      },
      "source": [
        "X_train = X_train.astype('float32')\n",
        "X_test = X_test.astype('float32')\n",
        "X_train /= 255\n",
        "X_test /= 255\n",
        "\n",
        "# ndarray.astype() is used to cast a copy of the array to a specified type.\n",
        "# And we divide the whole training and testing data by 255 to normalise it to values between 0 and 1."
      ],
      "execution_count": 0,
      "outputs": []
    },
    {
      "cell_type": "code",
      "metadata": {
        "id": "JNKLOmhlwJQl",
        "colab_type": "code",
        "outputId": "d32a5474-d455-4a27-f169-19ee8719e7f5",
        "colab": {
          "base_uri": "https://localhost:8080/",
          "height": 35
        }
      },
      "source": [
        "y_train[:10]\n",
        "\n",
        "# Here we print the training outputs to check whether all 10 distinct outputs are there or not."
      ],
      "execution_count": 8,
      "outputs": [
        {
          "output_type": "execute_result",
          "data": {
            "text/plain": [
              "array([5, 0, 4, 1, 9, 2, 1, 3, 1, 4], dtype=uint8)"
            ]
          },
          "metadata": {
            "tags": []
          },
          "execution_count": 8
        }
      ]
    },
    {
      "cell_type": "code",
      "metadata": {
        "id": "YusMJguiwKsM",
        "colab_type": "code",
        "colab": {}
      },
      "source": [
        "# Convert 1-dimensional class arrays to 10-dimensional class matrices\n",
        "Y_train = np_utils.to_categorical(y_train, 10)\n",
        "Y_test = np_utils.to_categorical(y_test, 10)\n",
        "\n",
        "# to_categorical - Converts a class vector (integers) to binary class matrix.\n",
        "# It returns binary matrix representation of the input, where the bit corresponding to each class number wiil be 1 and \n",
        "# everything else is 0."
      ],
      "execution_count": 0,
      "outputs": []
    },
    {
      "cell_type": "code",
      "metadata": {
        "id": "upxc99AswMW0",
        "colab_type": "code",
        "outputId": "c8c5e44d-a37f-43ca-ac4a-338ae4720d17",
        "colab": {
          "base_uri": "https://localhost:8080/",
          "height": 191
        }
      },
      "source": [
        "Y_train[:10]\n",
        "\n",
        "# Here we print out the binary matrix representation of the training output. "
      ],
      "execution_count": 10,
      "outputs": [
        {
          "output_type": "execute_result",
          "data": {
            "text/plain": [
              "array([[0., 0., 0., 0., 0., 1., 0., 0., 0., 0.],\n",
              "       [1., 0., 0., 0., 0., 0., 0., 0., 0., 0.],\n",
              "       [0., 0., 0., 0., 1., 0., 0., 0., 0., 0.],\n",
              "       [0., 1., 0., 0., 0., 0., 0., 0., 0., 0.],\n",
              "       [0., 0., 0., 0., 0., 0., 0., 0., 0., 1.],\n",
              "       [0., 0., 1., 0., 0., 0., 0., 0., 0., 0.],\n",
              "       [0., 1., 0., 0., 0., 0., 0., 0., 0., 0.],\n",
              "       [0., 0., 0., 1., 0., 0., 0., 0., 0., 0.],\n",
              "       [0., 1., 0., 0., 0., 0., 0., 0., 0., 0.],\n",
              "       [0., 0., 0., 0., 1., 0., 0., 0., 0., 0.]], dtype=float32)"
            ]
          },
          "metadata": {
            "tags": []
          },
          "execution_count": 10
        }
      ]
    },
    {
      "cell_type": "code",
      "metadata": {
        "id": "irTVUE47wNwr",
        "colab_type": "code",
        "outputId": "d78e9ba1-10b1-4fc4-ab86-3a6465598401",
        "colab": {
          "base_uri": "https://localhost:8080/",
          "height": 575
        }
      },
      "source": [
        "from keras.layers import Activation, MaxPooling2D\n",
        "\n",
        "model = Sequential() \n",
        "model.add(Convolution2D(32, 3, 3, activation='relu', input_shape=(28,28,1))) #Receptive Field = 3x3\n",
        "model.add(Convolution2D(64, 3, 3, activation='relu')) #input_shape=(26,26,32) #Receptive Field = 5x5\n",
        "model.add(Convolution2D(128, 3, 3, activation='relu')) #input_shape=(24,24,64) #Receptive Field = 7x7\n",
        "\n",
        "model.add(MaxPooling2D(pool_size=(2, 2))) #input_shape=(22,22,128)\n",
        "\n",
        "model.add(Convolution2D(32, 3, 3, activation='relu')) #input_shape=(11,11,128) #Receptive Field = 14x14\n",
        "model.add(Convolution2D(64, 3, 3, activation='relu')) #input_shape=(9,9,256) #Receptive Field = 16x16\n",
        "model.add(Convolution2D(128, 3, 3, activation='relu')) #input_shape=(7,7,512) #Receptive Field = 18x18\n",
        "model.add(Convolution2D(256, 3, 3, activation='relu')) #input_shape=(5,5,1024) #Receptive Field = 20x20\n",
        "model.add(Convolution2D(10, 3, 3, activation='relu')) #input_shape=(3,3,2048) #Receptive Field = 22x22\n",
        "\n",
        "model.add(Flatten()) #input_shape=(1,1,10) \n",
        "model.add(Activation('softmax')) #input_shape=(10)\n",
        "\n",
        "model.summary()\n",
        "\n",
        "# As we know Sequential creates a model that is a linear stack of layers.model.add() adds layers one by one  in this stack.\n",
        "# Activation - It can be used through an Activation layer, or through the activation argument supported by all forward layers.\n",
        "# Here we use 'relu 'in the argument of add(). ReLU converts all the pixel values between [-1,1] to [0,1].\n",
        "# MaxPooling2D - It performs Max pooling operation for spatial data. Here we spcify 2x2 maxpooling , therefore it will take the max \n",
        "# value of various 2x2 sections of the image , and the output size of the image will reduce by half or else in other words \n",
        "# we filter out 75% of data.\n",
        "# Here the size of the convolution filter is 3x3 for layers. \n",
        "# At last we flatten the data using Flatten() and using softmax activation to get the final output.\n",
        "# Softmax - It is used because some vector components could be negative, or greater than one; and might not sum to 1, but after applying \n",
        "# softmax,each component will be in the interval (0,1), and the components will add up to 1, so that they can be interpreted as probabilities.\n",
        "# And during prediction the highest probability one will be taken as the output and if this matches the ground truth , \n",
        "# we have a correct prediction , otherwise a false prediction.\n",
        "# The first argument of the Convolution2D is the number of 3x3 filters that is used in that layer\n",
        "# summary() prints the summary of the whole network.\n"
      ],
      "execution_count": 13,
      "outputs": [
        {
          "output_type": "stream",
          "text": [
            "_________________________________________________________________\n",
            "Layer (type)                 Output Shape              Param #   \n",
            "=================================================================\n",
            "conv2d_11 (Conv2D)           (None, 26, 26, 32)        320       \n",
            "_________________________________________________________________\n",
            "max_pooling2d_4 (MaxPooling2 (None, 13, 13, 32)        0         \n",
            "_________________________________________________________________\n",
            "conv2d_12 (Conv2D)           (None, 11, 11, 64)        18496     \n",
            "_________________________________________________________________\n",
            "max_pooling2d_5 (MaxPooling2 (None, 5, 5, 64)          0         \n",
            "_________________________________________________________________\n",
            "conv2d_13 (Conv2D)           (None, 3, 3, 128)         73856     \n",
            "_________________________________________________________________\n",
            "conv2d_14 (Conv2D)           (None, 1, 1, 10)          11530     \n",
            "_________________________________________________________________\n",
            "flatten_1 (Flatten)          (None, 10)                0         \n",
            "_________________________________________________________________\n",
            "activation_1 (Activation)    (None, 10)                0         \n",
            "=================================================================\n",
            "Total params: 104,202\n",
            "Trainable params: 104,202\n",
            "Non-trainable params: 0\n",
            "_________________________________________________________________\n"
          ],
          "name": "stdout"
        },
        {
          "output_type": "stream",
          "text": [
            "/usr/local/lib/python3.6/dist-packages/ipykernel_launcher.py:4: UserWarning: Update your `Conv2D` call to the Keras 2 API: `Conv2D(32, (3, 3), activation=\"relu\", input_shape=(28, 28, 1...)`\n",
            "  after removing the cwd from sys.path.\n",
            "/usr/local/lib/python3.6/dist-packages/ipykernel_launcher.py:6: UserWarning: Update your `Conv2D` call to the Keras 2 API: `Conv2D(64, (3, 3), activation=\"relu\")`\n",
            "  \n",
            "/usr/local/lib/python3.6/dist-packages/ipykernel_launcher.py:8: UserWarning: Update your `Conv2D` call to the Keras 2 API: `Conv2D(128, (3, 3), activation=\"relu\")`\n",
            "  \n",
            "/usr/local/lib/python3.6/dist-packages/ipykernel_launcher.py:13: UserWarning: Update your `Conv2D` call to the Keras 2 API: `Conv2D(10, (3, 3), activation=\"relu\")`\n",
            "  del sys.path[0]\n"
          ],
          "name": "stderr"
        }
      ]
    },
    {
      "cell_type": "code",
      "metadata": {
        "id": "VYZOpRb6yG7_",
        "colab_type": "code",
        "colab": {}
      },
      "source": [
        "model.compile(loss='categorical_crossentropy',\n",
        "             optimizer='adam',\n",
        "             metrics=['accuracy'])\n",
        "\n",
        "# complile() configures the model for training and we define what all metrics is calculated during training, \n",
        "# here its accurancy only.\n",
        "# categorical_crossentropy- It is a Softmax activation plus a Cross-Entropy loss. If we use this loss, we will train a CNN to output a probability over the \n",
        "# C-classes for each image.\n",
        "# Since we have mulitple classes , we use categorical crossentropy to calculate the loss.\n",
        "# Adam - Adam is an optimization algorithm that can used to update network weights iterative based in training data.\n",
        "# After calculating the loss, we use adam with the help of the categorical_crossentropy loss calculated of the training data.\n"
      ],
      "execution_count": 0,
      "outputs": []
    },
    {
      "cell_type": "code",
      "metadata": {
        "id": "5O248wVQyMft",
        "colab_type": "code",
        "outputId": "d20a1a9a-7f55-490f-f9ec-e7db15af6517",
        "colab": {
          "base_uri": "https://localhost:8080/",
          "height": 488
        }
      },
      "source": [
        "model.fit(X_train, Y_train, batch_size=32, nb_epoch=10, verbose=1)\n",
        "\n",
        "# fit() trains the above model for a given number of epochs.\n",
        "# Epochs are the number of iterations on a dataset.\n",
        "# We also define batch size = 32 , which the number of images passed through the network for each epoch.\n",
        "# verbose is set to 1 so that we can see the progess bar."
      ],
      "execution_count": 15,
      "outputs": [
        {
          "output_type": "stream",
          "text": [
            "WARNING:tensorflow:From /usr/local/lib/python3.6/dist-packages/tensorflow/python/ops/math_ops.py:3066: to_int32 (from tensorflow.python.ops.math_ops) is deprecated and will be removed in a future version.\n",
            "Instructions for updating:\n",
            "Use tf.cast instead.\n"
          ],
          "name": "stdout"
        },
        {
          "output_type": "stream",
          "text": [
            "/usr/local/lib/python3.6/dist-packages/ipykernel_launcher.py:1: UserWarning: The `nb_epoch` argument in `fit` has been renamed `epochs`.\n",
            "  \"\"\"Entry point for launching an IPython kernel.\n"
          ],
          "name": "stderr"
        },
        {
          "output_type": "stream",
          "text": [
            "Epoch 1/10\n",
            "60000/60000 [==============================] - 10s 167us/step - loss: 0.5784 - acc: 0.7729\n",
            "Epoch 2/10\n",
            "60000/60000 [==============================] - 8s 127us/step - loss: 0.4917 - acc: 0.7942\n",
            "Epoch 3/10\n",
            "60000/60000 [==============================] - 8s 132us/step - loss: 0.4803 - acc: 0.7970\n",
            "Epoch 4/10\n",
            "60000/60000 [==============================] - 9s 142us/step - loss: 0.4732 - acc: 0.7990\n",
            "Epoch 5/10\n",
            "60000/60000 [==============================] - 8s 129us/step - loss: 0.4689 - acc: 0.7999\n",
            "Epoch 6/10\n",
            "60000/60000 [==============================] - 8s 129us/step - loss: 0.4658 - acc: 0.8005\n",
            "Epoch 7/10\n",
            "60000/60000 [==============================] - 8s 131us/step - loss: 0.4637 - acc: 0.8011\n",
            "Epoch 8/10\n",
            "60000/60000 [==============================] - 8s 127us/step - loss: 0.4612 - acc: 0.8018\n",
            "Epoch 9/10\n",
            "60000/60000 [==============================] - 8s 127us/step - loss: 0.4601 - acc: 0.8020\n",
            "Epoch 10/10\n",
            "60000/60000 [==============================] - 8s 127us/step - loss: 0.4592 - acc: 0.8021\n"
          ],
          "name": "stdout"
        },
        {
          "output_type": "execute_result",
          "data": {
            "text/plain": [
              "<keras.callbacks.History at 0x7fa1bb962b70>"
            ]
          },
          "metadata": {
            "tags": []
          },
          "execution_count": 15
        }
      ]
    },
    {
      "cell_type": "code",
      "metadata": {
        "id": "Sst4KneiyOL5",
        "colab_type": "code",
        "colab": {}
      },
      "source": [
        "score = model.evaluate(X_test, Y_test, verbose=0)\n",
        "\n",
        "# evaluvate() returns the loss value & accuracy for the model in test mode.\n",
        "# Here also computation is done in batches."
      ],
      "execution_count": 0,
      "outputs": []
    },
    {
      "cell_type": "code",
      "metadata": {
        "id": "CfJiXOKsyj4y",
        "colab_type": "code",
        "colab": {}
      },
      "source": [
        "print(score)\n",
        "\n",
        "# Here we the test score , which is a list of scalars which includes loss and accuracy."
      ],
      "execution_count": 0,
      "outputs": []
    },
    {
      "cell_type": "code",
      "metadata": {
        "id": "hwLSXt7nyn_0",
        "colab_type": "code",
        "colab": {}
      },
      "source": [
        "y_pred = model.predict(X_test)\n",
        "\n",
        "# predict() generates output predictions for the input samples.\n",
        "# Here also computation is done in batches."
      ],
      "execution_count": 0,
      "outputs": []
    },
    {
      "cell_type": "code",
      "metadata": {
        "id": "WWKKoOKwyppN",
        "colab_type": "code",
        "colab": {}
      },
      "source": [
        "print(y_pred[:9])\n",
        "print(y_test[:9])\n",
        "\n",
        "# Here we print the output predictions from the model and the outputs from the ground truth, \n",
        "# to check how much correct predictions we got."
      ],
      "execution_count": 0,
      "outputs": []
    },
    {
      "cell_type": "markdown",
      "metadata": {
        "id": "P_0vhE1w4Ujh",
        "colab_type": "text"
      },
      "source": [
        "This network is not efficient because the number of parameters towards the end of the network, is too huge to handle. We can decrease the number of feature maps after the first max pooling layer, thereby reducing the number of parameters , therefore increasing the accuracy. The accuracy can also be increases by redcing the number of convolution layers along with this, which will reduce overfitting and increase accuracy. And also the receptive field at the last layer is not equal to the the size of the image , therefore a lot of data is lost while processing the images. One way to fix this is using one more maxpooling layer , therfore increasing the receptive field of the network, therfore retaining important data. And also by increasing the batch size and number of epochs , we can increase the accuracy of the network. "
      ]
    }
  ]
}
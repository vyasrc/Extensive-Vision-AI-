{
  "nbformat": 4,
  "nbformat_minor": 0,
  "metadata": {
    "colab": {
      "name": "DNN.ipynb",
      "version": "0.3.2",
      "provenance": [],
      "collapsed_sections": []
    },
    "kernelspec": {
      "name": "python3",
      "display_name": "Python 3"
    },
    "accelerator": "GPU"
  },
  "cells": [
    {
      "cell_type": "markdown",
      "metadata": {
        "id": "aNyZv-Ec52ot",
        "colab_type": "text"
      },
      "source": [
        "# **Import Libraries and modules**"
      ]
    },
    {
      "cell_type": "code",
      "metadata": {
        "id": "3m3w1Cw49Zkt",
        "colab_type": "code",
        "colab": {}
      },
      "source": [
        "# https://keras.io/\n",
        "!pip install -q keras\n",
        "import keras"
      ],
      "execution_count": 0,
      "outputs": []
    },
    {
      "cell_type": "code",
      "metadata": {
        "id": "Eso6UHE080D4",
        "colab_type": "code",
        "colab": {}
      },
      "source": [
        "import numpy as np\n",
        "\n",
        "from keras.models import Sequential\n",
        "from keras.layers import Dense, Dropout, Activation, Flatten, Add\n",
        "from keras.layers import Convolution2D, MaxPooling2D\n",
        "from keras.utils import np_utils\n",
        "\n",
        "from keras.datasets import mnist"
      ],
      "execution_count": 0,
      "outputs": []
    },
    {
      "cell_type": "markdown",
      "metadata": {
        "id": "zByEi95J86RD",
        "colab_type": "text"
      },
      "source": [
        "### Load pre-shuffled MNIST data into train and test sets"
      ]
    },
    {
      "cell_type": "code",
      "metadata": {
        "id": "7eRM0QWN83PV",
        "colab_type": "code",
        "colab": {}
      },
      "source": [
        "(X_train, y_train), (X_test, y_test) = mnist.load_data()"
      ],
      "execution_count": 0,
      "outputs": []
    },
    {
      "cell_type": "code",
      "metadata": {
        "id": "4a4Be72j8-ZC",
        "colab_type": "code",
        "outputId": "c27ce326-7ed8-4e64-ba25-136e99402683",
        "colab": {
          "base_uri": "https://localhost:8080/",
          "height": 304
        }
      },
      "source": [
        "print (X_train.shape)\n",
        "from matplotlib import pyplot as plt\n",
        "%matplotlib inline\n",
        "plt.imshow(X_train[0])"
      ],
      "execution_count": 0,
      "outputs": [
        {
          "output_type": "stream",
          "text": [
            "(60000, 28, 28)\n"
          ],
          "name": "stdout"
        },
        {
          "output_type": "execute_result",
          "data": {
            "text/plain": [
              "<matplotlib.image.AxesImage at 0x7f8479c555f8>"
            ]
          },
          "metadata": {
            "tags": []
          },
          "execution_count": 157
        },
        {
          "output_type": "display_data",
          "data": {
            "image/png": "[encoded data removed]",
            "text/plain": [
              "<Figure size 432x288 with 1 Axes>"
            ]
          },
          "metadata": {
            "tags": []
          }
        }
      ]
    },
    {
      "cell_type": "code",
      "metadata": {
        "id": "dkmprriw9AnZ",
        "colab_type": "code",
        "colab": {}
      },
      "source": [
        "X_train = X_train.reshape(X_train.shape[0], 28, 28,1)\n",
        "X_test = X_test.reshape(X_test.shape[0], 28, 28,1)"
      ],
      "execution_count": 0,
      "outputs": []
    },
    {
      "cell_type": "code",
      "metadata": {
        "id": "X2m4YS4E9CRh",
        "colab_type": "code",
        "colab": {}
      },
      "source": [
        "X_train = X_train.astype('float32')\n",
        "X_test = X_test.astype('float32')\n",
        "X_train /= 255\n",
        "X_test /= 255"
      ],
      "execution_count": 0,
      "outputs": []
    },
    {
      "cell_type": "code",
      "metadata": {
        "id": "0Mn0vAYD9DvB",
        "colab_type": "code",
        "outputId": "f903059f-aba3-47cc-d838-e693ed6293a2",
        "colab": {
          "base_uri": "https://localhost:8080/",
          "height": 35
        }
      },
      "source": [
        "y_train[:10]"
      ],
      "execution_count": 0,
      "outputs": [
        {
          "output_type": "execute_result",
          "data": {
            "text/plain": [
              "array([5, 0, 4, 1, 9, 2, 1, 3, 1, 4], dtype=uint8)"
            ]
          },
          "metadata": {
            "tags": []
          },
          "execution_count": 160
        }
      ]
    },
    {
      "cell_type": "code",
      "metadata": {
        "id": "KAMpuHTXInIk",
        "colab_type": "code",
        "outputId": "964fedd1-fd61-4802-f4fb-73060dc6fcdf",
        "colab": {
          "base_uri": "https://localhost:8080/",
          "height": 52
        }
      },
      "source": [
        "from keras.preprocessing.image import ImageDataGenerator\n",
        "\n",
        "datagen = ImageDataGenerator(featurewise_center=True, featurewise_std_normalization=True)\n",
        "datagen.fit(X_train)\n",
        "iterator = datagen.flow(X_train, y_train, batch_size=len(X_train), shuffle=False)\n",
        "X_train, y_train = iterator.next()\n",
        "print(X_train.shape, X_train.mean(), X_train.std())\n",
        "\n",
        "datagen.fit(X_test)\n",
        "iterator = datagen.flow(X_test, y_test, batch_size=len(X_train), shuffle=False)\n",
        "X_test, y_test = iterator.next()\n",
        "print(X_test.shape, X_test.mean(), X_test.std())\n",
        "\n",
        "# This part of code performs Image Normalization with mean and standard deviation.\n",
        "# ImageDataGenerator - It generates batches of image data with real-time data augmentation.This data will be looped over in batches.\n",
        "# Here we give the batch size as the whole data size so that we have loop only once to get the entire data.\n",
        "# We also give featurewise_center as True, which sets input mean to 0 feature-wise , over the dataset and \n",
        "# featurewise_std_normalization also as True, which divides the inputs by std of the dataset, feature-wise."
      ],
      "execution_count": 0,
      "outputs": [
        {
          "output_type": "stream",
          "text": [
            "(60000, 28, 28, 1) -4.9324944e-07 0.9999959\n",
            "(10000, 28, 28, 1) -2.0761392e-07 0.9999966\n"
          ],
          "name": "stdout"
        }
      ]
    },
    {
      "cell_type": "code",
      "metadata": {
        "id": "ZG8JiXR39FHC",
        "colab_type": "code",
        "colab": {}
      },
      "source": [
        "# Convert 1-dimensional class arrays to 10-dimensional class matrices\n",
        "Y_train = np_utils.to_categorical(y_train, 10)\n",
        "Y_test = np_utils.to_categorical(y_test, 10)"
      ],
      "execution_count": 0,
      "outputs": []
    },
    {
      "cell_type": "code",
      "metadata": {
        "id": "fYlFRvKS9HMB",
        "colab_type": "code",
        "outputId": "692cac23-ed4c-40ce-adc2-4b3521286e45",
        "colab": {
          "base_uri": "https://localhost:8080/",
          "height": 191
        }
      },
      "source": [
        "Y_train[:10]\n"
      ],
      "execution_count": 0,
      "outputs": [
        {
          "output_type": "execute_result",
          "data": {
            "text/plain": [
              "array([[0., 0., 0., 0., 0., 1., 0., 0., 0., 0.],\n",
              "       [1., 0., 0., 0., 0., 0., 0., 0., 0., 0.],\n",
              "       [0., 0., 0., 0., 1., 0., 0., 0., 0., 0.],\n",
              "       [0., 1., 0., 0., 0., 0., 0., 0., 0., 0.],\n",
              "       [0., 0., 0., 0., 0., 0., 0., 0., 0., 1.],\n",
              "       [0., 0., 1., 0., 0., 0., 0., 0., 0., 0.],\n",
              "       [0., 1., 0., 0., 0., 0., 0., 0., 0., 0.],\n",
              "       [0., 0., 0., 1., 0., 0., 0., 0., 0., 0.],\n",
              "       [0., 1., 0., 0., 0., 0., 0., 0., 0., 0.],\n",
              "       [0., 0., 0., 0., 1., 0., 0., 0., 0., 0.]], dtype=float32)"
            ]
          },
          "metadata": {
            "tags": []
          },
          "execution_count": 163
        }
      ]
    },
    {
      "cell_type": "code",
      "metadata": {
        "id": "osKqT73Q9JJB",
        "colab_type": "code",
        "outputId": "0387ac09-6fa5-45e2-9468-1a714580fcd7",
        "colab": {
          "base_uri": "https://localhost:8080/",
          "height": 211
        }
      },
      "source": [
        "from keras.layers import Activation\n",
        "from keras.layers.normalization import BatchNormalization\n",
        "from keras import regularizers\n",
        "model = Sequential()\n",
        "\n",
        " \n",
        "model.add(Convolution2D(10, 3, 3, kernel_regularizer=regularizers.l2(0.0001), input_shape=(28,28,1))) # 28 , 3\n",
        "model.add(BatchNormalization())\n",
        "model.add(Activation('relu'))\n",
        "model.add(Dropout(0.1))\n",
        "\n",
        "model.add(Convolution2D(16, 3, 3, kernel_regularizer=regularizers.l2(0.0001))) # 26 , 5\n",
        "model.add(BatchNormalization())\n",
        "model.add(Activation('relu'))\n",
        "model.add(Dropout(0.1))\n",
        "\n",
        "model.add(Convolution2D(10, 1, 1, kernel_regularizer=regularizers.l2(0.0001))) # 27 , 5\n",
        "model.add(BatchNormalization())\n",
        "model.add(Activation('relu'))\n",
        "model.add(Dropout(0.1))\n",
        "\n",
        "model.add(MaxPooling2D(pool_size=(2, 2))) # 24\n",
        "\n",
        "model.add(Convolution2D(16, 3, 3, kernel_regularizer=regularizers.l2(0.0001))) # 12 , 10\n",
        "model.add(BatchNormalization())\n",
        "model.add(Activation('relu'))\n",
        "model.add(Dropout(0.1))\n",
        "\n",
        "model.add(Convolution2D(16, 3, 3, kernel_regularizer=regularizers.l2(0.0001))) # 10 , 12\n",
        "model.add(BatchNormalization())\n",
        "model.add(Activation('relu'))\n",
        "model.add(Dropout(0.1))\n",
        "\n",
        "model.add(Convolution2D(16, 3, 3, kernel_regularizer=regularizers.l2(0.0001))) # 8 , 14\n",
        "model.add(BatchNormalization())\n",
        "model.add(Activation('relu'))\n",
        "model.add(Dropout(0.1))\n",
        "\n",
        "model.add(Convolution2D(16, 3, 3, kernel_regularizer=regularizers.l2(0.0001))) # 6 , 16\n",
        "model.add(BatchNormalization())\n",
        "model.add(Activation('relu'))\n",
        "model.add(Dropout(0.1))\n",
        "\n",
        "model.add(Convolution2D(10, 4, 4)) # 4 , 18\n",
        "\n",
        "model.add(Flatten())\n",
        "model.add(Activation('softmax'))\n",
        "\n",
        "# Regularizers allow to apply penalties on layer parameters or layer activity during optimization. \n",
        "# These penalties are incorporated in the loss function that the network optimizes.\n",
        "# L1 and L2 are the most common types of regularization. \n",
        "# These update the general cost function by adding another term known as the regularization term. \n",
        "# L2 regularization is also known as weight decay as it forces the weights to decay towards zero (but not exactly zero).\n",
        "# Here the regularization parameter that is passed is .0001"
      ],
      "execution_count": 0,
      "outputs": [
        {
          "output_type": "stream",
          "text": [
            "/usr/local/lib/python3.6/dist-packages/ipykernel_launcher.py:7: UserWarning: Update your `Conv2D` call to the Keras 2 API: `Conv2D(10, (3, 3), kernel_regularizer=<keras.reg..., input_shape=(28, 28, 1...)`\n",
            "  import sys\n",
            "/usr/local/lib/python3.6/dist-packages/ipykernel_launcher.py:12: UserWarning: Update your `Conv2D` call to the Keras 2 API: `Conv2D(16, (3, 3), kernel_regularizer=<keras.reg...)`\n",
            "  if sys.path[0] == '':\n",
            "/usr/local/lib/python3.6/dist-packages/ipykernel_launcher.py:17: UserWarning: Update your `Conv2D` call to the Keras 2 API: `Conv2D(10, (1, 1), kernel_regularizer=<keras.reg...)`\n",
            "/usr/local/lib/python3.6/dist-packages/ipykernel_launcher.py:24: UserWarning: Update your `Conv2D` call to the Keras 2 API: `Conv2D(16, (3, 3), kernel_regularizer=<keras.reg...)`\n",
            "/usr/local/lib/python3.6/dist-packages/ipykernel_launcher.py:29: UserWarning: Update your `Conv2D` call to the Keras 2 API: `Conv2D(16, (3, 3), kernel_regularizer=<keras.reg...)`\n",
            "/usr/local/lib/python3.6/dist-packages/ipykernel_launcher.py:34: UserWarning: Update your `Conv2D` call to the Keras 2 API: `Conv2D(16, (3, 3), kernel_regularizer=<keras.reg...)`\n",
            "/usr/local/lib/python3.6/dist-packages/ipykernel_launcher.py:39: UserWarning: Update your `Conv2D` call to the Keras 2 API: `Conv2D(16, (3, 3), kernel_regularizer=<keras.reg...)`\n",
            "/usr/local/lib/python3.6/dist-packages/ipykernel_launcher.py:44: UserWarning: Update your `Conv2D` call to the Keras 2 API: `Conv2D(10, (4, 4))`\n"
          ],
          "name": "stderr"
        }
      ]
    },
    {
      "cell_type": "code",
      "metadata": {
        "id": "TzdAYg1k9K7Z",
        "colab_type": "code",
        "outputId": "52c5069e-af00-4d58-90b7-f196e321e68a",
        "colab": {
          "base_uri": "https://localhost:8080/",
          "height": 1248
        }
      },
      "source": [
        "model.summary()"
      ],
      "execution_count": 0,
      "outputs": [
        {
          "output_type": "stream",
          "text": [
            "_________________________________________________________________\n",
            "Layer (type)                 Output Shape              Param #   \n",
            "=================================================================\n",
            "conv2d_25 (Conv2D)           (None, 26, 26, 10)        100       \n",
            "_________________________________________________________________\n",
            "batch_normalization_22 (Batc (None, 26, 26, 10)        40        \n",
            "_________________________________________________________________\n",
            "activation_11 (Activation)   (None, 26, 26, 10)        0         \n",
            "_________________________________________________________________\n",
            "dropout_22 (Dropout)         (None, 26, 26, 10)        0         \n",
            "_________________________________________________________________\n",
            "conv2d_26 (Conv2D)           (None, 24, 24, 16)        1456      \n",
            "_________________________________________________________________\n",
            "batch_normalization_23 (Batc (None, 24, 24, 16)        64        \n",
            "_________________________________________________________________\n",
            "activation_12 (Activation)   (None, 24, 24, 16)        0         \n",
            "_________________________________________________________________\n",
            "dropout_23 (Dropout)         (None, 24, 24, 16)        0         \n",
            "_________________________________________________________________\n",
            "conv2d_27 (Conv2D)           (None, 24, 24, 10)        170       \n",
            "_________________________________________________________________\n",
            "batch_normalization_24 (Batc (None, 24, 24, 10)        40        \n",
            "_________________________________________________________________\n",
            "activation_13 (Activation)   (None, 24, 24, 10)        0         \n",
            "_________________________________________________________________\n",
            "dropout_24 (Dropout)         (None, 24, 24, 10)        0         \n",
            "_________________________________________________________________\n",
            "max_pooling2d_4 (MaxPooling2 (None, 12, 12, 10)        0         \n",
            "_________________________________________________________________\n",
            "conv2d_28 (Conv2D)           (None, 10, 10, 16)        1456      \n",
            "_________________________________________________________________\n",
            "batch_normalization_25 (Batc (None, 10, 10, 16)        64        \n",
            "_________________________________________________________________\n",
            "activation_14 (Activation)   (None, 10, 10, 16)        0         \n",
            "_________________________________________________________________\n",
            "dropout_25 (Dropout)         (None, 10, 10, 16)        0         \n",
            "_________________________________________________________________\n",
            "conv2d_29 (Conv2D)           (None, 8, 8, 16)          2320      \n",
            "_________________________________________________________________\n",
            "batch_normalization_26 (Batc (None, 8, 8, 16)          64        \n",
            "_________________________________________________________________\n",
            "activation_15 (Activation)   (None, 8, 8, 16)          0         \n",
            "_________________________________________________________________\n",
            "dropout_26 (Dropout)         (None, 8, 8, 16)          0         \n",
            "_________________________________________________________________\n",
            "conv2d_30 (Conv2D)           (None, 6, 6, 16)          2320      \n",
            "_________________________________________________________________\n",
            "batch_normalization_27 (Batc (None, 6, 6, 16)          64        \n",
            "_________________________________________________________________\n",
            "activation_16 (Activation)   (None, 6, 6, 16)          0         \n",
            "_________________________________________________________________\n",
            "dropout_27 (Dropout)         (None, 6, 6, 16)          0         \n",
            "_________________________________________________________________\n",
            "conv2d_31 (Conv2D)           (None, 4, 4, 16)          2320      \n",
            "_________________________________________________________________\n",
            "batch_normalization_28 (Batc (None, 4, 4, 16)          64        \n",
            "_________________________________________________________________\n",
            "activation_17 (Activation)   (None, 4, 4, 16)          0         \n",
            "_________________________________________________________________\n",
            "dropout_28 (Dropout)         (None, 4, 4, 16)          0         \n",
            "_________________________________________________________________\n",
            "conv2d_32 (Conv2D)           (None, 1, 1, 10)          2570      \n",
            "_________________________________________________________________\n",
            "flatten_4 (Flatten)          (None, 10)                0         \n",
            "_________________________________________________________________\n",
            "activation_18 (Activation)   (None, 10)                0         \n",
            "=================================================================\n",
            "Total params: 13,112\n",
            "Trainable params: 12,912\n",
            "Non-trainable params: 200\n",
            "_________________________________________________________________\n"
          ],
          "name": "stdout"
        }
      ]
    },
    {
      "cell_type": "code",
      "metadata": {
        "id": "Zp6SuGrL9M3h",
        "colab_type": "code",
        "colab": {}
      },
      "source": [
        "from keras.optimizers import Adam\n",
        "from keras.callbacks import LearningRateScheduler\n",
        "from keras.callbacks import ModelCheckpoint\n",
        "\n",
        "def scheduler(epoch, lr):\n",
        "  return round(0.003 * 1/(1 + 0.319 * epoch), 10)\n",
        "\n",
        "checkpoint = ModelCheckpoint('model-{epoch:03d}-{acc:03f}-{val_acc:03f}.h5', verbose=1, monitor='val_acc',save_best_only=True, mode='auto')\n",
        "\n",
        "model.compile(loss='categorical_crossentropy', optimizer=Adam(lr=0.003), metrics=['accuracy'])\n",
        "\n",
        "# ModelCheckpoint saves the model after every epoch.\n",
        "# Here in this model , we save the the model of the first epoch. \n",
        "# Then after each epoch it monitors the validation accuracy and see if it greater than the one in the saved model,\n",
        "# if it is greater than the previous one , it will save this model, otherwise it will skip the saving part.\n",
        "# This checkpoint is passed to model.fit()"
      ],
      "execution_count": 0,
      "outputs": []
    },
    {
      "cell_type": "code",
      "metadata": {
        "id": "4xWoKhPY9Of5",
        "colab_type": "code",
        "outputId": "3920708e-2aba-4e70-efc9-eae27a5f0ba6",
        "colab": {
          "base_uri": "https://localhost:8080/",
          "height": 4212
        }
      },
      "source": [
        "model.fit(X_train, Y_train, batch_size=128, epochs=40, verbose=1, validation_data=(X_test, Y_test), \n",
        "          callbacks=[LearningRateScheduler(scheduler, verbose=1), checkpoint])\n"
      ],
      "execution_count": 0,
      "outputs": [
        {
          "output_type": "stream",
          "text": [
            "Train on 60000 samples, validate on 10000 samples\n",
            "Epoch 1/40\n",
            "\n",
            "Epoch 00001: LearningRateScheduler setting learning rate to 0.003.\n",
            "60000/60000 [==============================] - 13s 215us/step - loss: 0.2579 - acc: 0.9215 - val_loss: 0.1734 - val_acc: 0.9514\n",
            "\n",
            "Epoch 00001: val_acc improved from -inf to 0.95140, saving model to model-001-0.921533-0.951400.h5\n",
            "Epoch 2/40\n",
            "\n",
            "Epoch 00002: LearningRateScheduler setting learning rate to 0.0022744503.\n",
            "60000/60000 [==============================] - 8s 128us/step - loss: 0.0759 - acc: 0.9800 - val_loss: 0.0681 - val_acc: 0.9818\n",
            "\n",
            "Epoch 00002: val_acc improved from 0.95140 to 0.98180, saving model to model-002-0.980000-0.981800.h5\n",
            "Epoch 3/40\n",
            "\n",
            "Epoch 00003: LearningRateScheduler setting learning rate to 0.0018315018.\n",
            "60000/60000 [==============================] - 8s 128us/step - loss: 0.0629 - acc: 0.9838 - val_loss: 0.0482 - val_acc: 0.9891\n",
            "\n",
            "Epoch 00003: val_acc improved from 0.98180 to 0.98910, saving model to model-003-0.983833-0.989100.h5\n",
            "Epoch 4/40\n",
            "\n",
            "Epoch 00004: LearningRateScheduler setting learning rate to 0.0015329586.\n",
            "60000/60000 [==============================] - 8s 127us/step - loss: 0.0575 - acc: 0.9858 - val_loss: 0.0450 - val_acc: 0.9905\n",
            "\n",
            "Epoch 00004: val_acc improved from 0.98910 to 0.99050, saving model to model-004-0.985817-0.990500.h5\n",
            "Epoch 5/40\n",
            "\n",
            "Epoch 00005: LearningRateScheduler setting learning rate to 0.0013181019.\n",
            "60000/60000 [==============================] - 8s 127us/step - loss: 0.0522 - acc: 0.9873 - val_loss: 0.0508 - val_acc: 0.9871\n",
            "\n",
            "Epoch 00005: val_acc did not improve from 0.99050\n",
            "Epoch 6/40\n",
            "\n",
            "Epoch 00006: LearningRateScheduler setting learning rate to 0.0011560694.\n",
            "60000/60000 [==============================] - 8s 127us/step - loss: 0.0479 - acc: 0.9889 - val_loss: 0.0422 - val_acc: 0.9906\n",
            "\n",
            "Epoch 00006: val_acc improved from 0.99050 to 0.99060, saving model to model-006-0.988933-0.990600.h5\n",
            "Epoch 7/40\n",
            "\n",
            "Epoch 00007: LearningRateScheduler setting learning rate to 0.0010295127.\n",
            "60000/60000 [==============================] - 8s 129us/step - loss: 0.0457 - acc: 0.9892 - val_loss: 0.0406 - val_acc: 0.9920\n",
            "\n",
            "Epoch 00007: val_acc improved from 0.99060 to 0.99200, saving model to model-007-0.989183-0.992000.h5\n",
            "Epoch 8/40\n",
            "\n",
            "Epoch 00008: LearningRateScheduler setting learning rate to 0.0009279307.\n",
            "60000/60000 [==============================] - 8s 133us/step - loss: 0.0419 - acc: 0.9904 - val_loss: 0.0397 - val_acc: 0.9912\n",
            "\n",
            "Epoch 00008: val_acc did not improve from 0.99200\n",
            "Epoch 9/40\n",
            "\n",
            "Epoch 00009: LearningRateScheduler setting learning rate to 0.0008445946.\n",
            "60000/60000 [==============================] - 8s 141us/step - loss: 0.0422 - acc: 0.9901 - val_loss: 0.0362 - val_acc: 0.9917\n",
            "\n",
            "Epoch 00009: val_acc did not improve from 0.99200\n",
            "Epoch 10/40\n",
            "\n",
            "Epoch 00010: LearningRateScheduler setting learning rate to 0.0007749935.\n",
            "60000/60000 [==============================] - 8s 129us/step - loss: 0.0397 - acc: 0.9910 - val_loss: 0.0343 - val_acc: 0.9927\n",
            "\n",
            "Epoch 00010: val_acc improved from 0.99200 to 0.99270, saving model to model-010-0.990983-0.992700.h5\n",
            "Epoch 11/40\n",
            "\n",
            "Epoch 00011: LearningRateScheduler setting learning rate to 0.0007159905.\n",
            "60000/60000 [==============================] - 7s 125us/step - loss: 0.0373 - acc: 0.9916 - val_loss: 0.0353 - val_acc: 0.9922\n",
            "\n",
            "Epoch 00011: val_acc did not improve from 0.99270\n",
            "Epoch 12/40\n",
            "\n",
            "Epoch 00012: LearningRateScheduler setting learning rate to 0.000665336.\n",
            "60000/60000 [==============================] - 8s 125us/step - loss: 0.0367 - acc: 0.9914 - val_loss: 0.0355 - val_acc: 0.9924\n",
            "\n",
            "Epoch 00012: val_acc did not improve from 0.99270\n",
            "Epoch 13/40\n",
            "\n",
            "Epoch 00013: LearningRateScheduler setting learning rate to 0.0006213753.\n",
            "60000/60000 [==============================] - 7s 125us/step - loss: 0.0363 - acc: 0.9919 - val_loss: 0.0351 - val_acc: 0.9930\n",
            "\n",
            "Epoch 00013: val_acc improved from 0.99270 to 0.99300, saving model to model-013-0.991867-0.993000.h5\n",
            "Epoch 14/40\n",
            "\n",
            "Epoch 00014: LearningRateScheduler setting learning rate to 0.0005828638.\n",
            "60000/60000 [==============================] - 7s 125us/step - loss: 0.0338 - acc: 0.9924 - val_loss: 0.0325 - val_acc: 0.9930\n",
            "\n",
            "Epoch 00014: val_acc did not improve from 0.99300\n",
            "Epoch 15/40\n",
            "\n",
            "Epoch 00015: LearningRateScheduler setting learning rate to 0.0005488474.\n",
            "60000/60000 [==============================] - 8s 126us/step - loss: 0.0332 - acc: 0.9927 - val_loss: 0.0318 - val_acc: 0.9935\n",
            "\n",
            "Epoch 00015: val_acc improved from 0.99300 to 0.99350, saving model to model-015-0.992700-0.993500.h5\n",
            "Epoch 16/40\n",
            "\n",
            "Epoch 00016: LearningRateScheduler setting learning rate to 0.0005185825.\n",
            "60000/60000 [==============================] - 8s 126us/step - loss: 0.0320 - acc: 0.9930 - val_loss: 0.0317 - val_acc: 0.9935\n",
            "\n",
            "Epoch 00016: val_acc did not improve from 0.99350\n",
            "Epoch 17/40\n",
            "\n",
            "Epoch 00017: LearningRateScheduler setting learning rate to 0.000491481.\n",
            "60000/60000 [==============================] - 8s 127us/step - loss: 0.0313 - acc: 0.9932 - val_loss: 0.0322 - val_acc: 0.9936\n",
            "\n",
            "Epoch 00017: val_acc improved from 0.99350 to 0.99360, saving model to model-017-0.993183-0.993600.h5\n",
            "Epoch 18/40\n",
            "\n",
            "Epoch 00018: LearningRateScheduler setting learning rate to 0.0004670715.\n",
            "60000/60000 [==============================] - 8s 129us/step - loss: 0.0296 - acc: 0.9935 - val_loss: 0.0301 - val_acc: 0.9940\n",
            "\n",
            "Epoch 00018: val_acc improved from 0.99360 to 0.99400, saving model to model-018-0.993467-0.994000.h5\n",
            "Epoch 19/40\n",
            "\n",
            "Epoch 00019: LearningRateScheduler setting learning rate to 0.0004449718.\n",
            "60000/60000 [==============================] - 8s 137us/step - loss: 0.0306 - acc: 0.9935 - val_loss: 0.0314 - val_acc: 0.9938\n",
            "\n",
            "Epoch 00019: val_acc did not improve from 0.99400\n",
            "Epoch 20/40\n",
            "\n",
            "Epoch 00020: LearningRateScheduler setting learning rate to 0.000424869.\n",
            "60000/60000 [==============================] - 8s 127us/step - loss: 0.0299 - acc: 0.9934 - val_loss: 0.0287 - val_acc: 0.9944\n",
            "\n",
            "Epoch 00020: val_acc improved from 0.99400 to 0.99440, saving model to model-020-0.993417-0.994400.h5\n",
            "Epoch 21/40\n",
            "\n",
            "Epoch 00021: LearningRateScheduler setting learning rate to 0.0004065041.\n",
            "60000/60000 [==============================] - 8s 127us/step - loss: 0.0302 - acc: 0.9933 - val_loss: 0.0282 - val_acc: 0.9947\n",
            "\n",
            "Epoch 00021: val_acc improved from 0.99440 to 0.99470, saving model to model-021-0.993283-0.994700.h5\n",
            "Epoch 22/40\n",
            "\n",
            "Epoch 00022: LearningRateScheduler setting learning rate to 0.000389661.\n",
            "60000/60000 [==============================] - 8s 127us/step - loss: 0.0281 - acc: 0.9937 - val_loss: 0.0344 - val_acc: 0.9922\n",
            "\n",
            "Epoch 00022: val_acc did not improve from 0.99470\n",
            "Epoch 23/40\n",
            "\n",
            "Epoch 00023: LearningRateScheduler setting learning rate to 0.0003741581.\n",
            "60000/60000 [==============================] - 8s 128us/step - loss: 0.0284 - acc: 0.9934 - val_loss: 0.0286 - val_acc: 0.9944\n",
            "\n",
            "Epoch 00023: val_acc did not improve from 0.99470\n",
            "Epoch 24/40\n",
            "\n",
            "Epoch 00024: LearningRateScheduler setting learning rate to 0.0003598417.\n",
            "60000/60000 [==============================] - 8s 134us/step - loss: 0.0281 - acc: 0.9939 - val_loss: 0.0298 - val_acc: 0.9934\n",
            "\n",
            "Epoch 00024: val_acc did not improve from 0.99470\n",
            "Epoch 25/40\n",
            "\n",
            "Epoch 00025: LearningRateScheduler setting learning rate to 0.0003465804.\n",
            "60000/60000 [==============================] - 8s 129us/step - loss: 0.0275 - acc: 0.9941 - val_loss: 0.0303 - val_acc: 0.9940\n",
            "\n",
            "Epoch 00025: val_acc did not improve from 0.99470\n",
            "Epoch 26/40\n",
            "\n",
            "Epoch 00026: LearningRateScheduler setting learning rate to 0.0003342618.\n",
            "60000/60000 [==============================] - 8s 126us/step - loss: 0.0261 - acc: 0.9944 - val_loss: 0.0294 - val_acc: 0.9942\n",
            "\n",
            "Epoch 00026: val_acc did not improve from 0.99470\n",
            "Epoch 27/40\n",
            "\n",
            "Epoch 00027: LearningRateScheduler setting learning rate to 0.0003227889.\n",
            "60000/60000 [==============================] - 8s 127us/step - loss: 0.0261 - acc: 0.9946 - val_loss: 0.0312 - val_acc: 0.9933\n",
            "\n",
            "Epoch 00027: val_acc did not improve from 0.99470\n",
            "Epoch 28/40\n",
            "\n",
            "Epoch 00028: LearningRateScheduler setting learning rate to 0.0003120774.\n",
            "60000/60000 [==============================] - 7s 124us/step - loss: 0.0253 - acc: 0.9946 - val_loss: 0.0299 - val_acc: 0.9936\n",
            "\n",
            "Epoch 00028: val_acc did not improve from 0.99470\n",
            "Epoch 29/40\n",
            "\n",
            "Epoch 00029: LearningRateScheduler setting learning rate to 0.000302054.\n",
            "60000/60000 [==============================] - 8s 134us/step - loss: 0.0260 - acc: 0.9944 - val_loss: 0.0308 - val_acc: 0.9936\n",
            "\n",
            "Epoch 00029: val_acc did not improve from 0.99470\n",
            "Epoch 30/40\n",
            "\n",
            "Epoch 00030: LearningRateScheduler setting learning rate to 0.0002926544.\n",
            "60000/60000 [==============================] - 8s 132us/step - loss: 0.0248 - acc: 0.9947 - val_loss: 0.0314 - val_acc: 0.9933\n",
            "\n",
            "Epoch 00030: val_acc did not improve from 0.99470\n",
            "Epoch 31/40\n",
            "\n",
            "Epoch 00031: LearningRateScheduler setting learning rate to 0.0002838221.\n",
            "60000/60000 [==============================] - 8s 128us/step - loss: 0.0252 - acc: 0.9946 - val_loss: 0.0297 - val_acc: 0.9943\n",
            "\n",
            "Epoch 00031: val_acc did not improve from 0.99470\n",
            "Epoch 32/40\n",
            "\n",
            "Epoch 00032: LearningRateScheduler setting learning rate to 0.0002755074.\n",
            "60000/60000 [==============================] - 8s 127us/step - loss: 0.0249 - acc: 0.9948 - val_loss: 0.0318 - val_acc: 0.9927\n",
            "\n",
            "Epoch 00032: val_acc did not improve from 0.99470\n",
            "Epoch 33/40\n",
            "\n",
            "Epoch 00033: LearningRateScheduler setting learning rate to 0.000267666.\n",
            "60000/60000 [==============================] - 8s 127us/step - loss: 0.0249 - acc: 0.9941 - val_loss: 0.0286 - val_acc: 0.9944\n",
            "\n",
            "Epoch 00033: val_acc did not improve from 0.99470\n",
            "Epoch 34/40\n",
            "\n",
            "Epoch 00034: LearningRateScheduler setting learning rate to 0.0002602585.\n",
            "60000/60000 [==============================] - 8s 127us/step - loss: 0.0252 - acc: 0.9943 - val_loss: 0.0305 - val_acc: 0.9932\n",
            "\n",
            "Epoch 00034: val_acc did not improve from 0.99470\n",
            "Epoch 35/40\n",
            "\n",
            "Epoch 00035: LearningRateScheduler setting learning rate to 0.00025325.\n",
            "60000/60000 [==============================] - 8s 128us/step - loss: 0.0243 - acc: 0.9945 - val_loss: 0.0319 - val_acc: 0.9932\n",
            "\n",
            "Epoch 00035: val_acc did not improve from 0.99470\n",
            "Epoch 36/40\n",
            "\n",
            "Epoch 00036: LearningRateScheduler setting learning rate to 0.0002466091.\n",
            "60000/60000 [==============================] - 8s 127us/step - loss: 0.0234 - acc: 0.9950 - val_loss: 0.0288 - val_acc: 0.9939\n",
            "\n",
            "Epoch 00036: val_acc did not improve from 0.99470\n",
            "Epoch 37/40\n",
            "\n",
            "Epoch 00037: LearningRateScheduler setting learning rate to 0.0002403076.\n",
            "60000/60000 [==============================] - 8s 127us/step - loss: 0.0235 - acc: 0.9948 - val_loss: 0.0300 - val_acc: 0.9934\n",
            "\n",
            "Epoch 00037: val_acc did not improve from 0.99470\n",
            "Epoch 38/40\n",
            "\n",
            "Epoch 00038: LearningRateScheduler setting learning rate to 0.0002343201.\n",
            "60000/60000 [==============================] - 8s 125us/step - loss: 0.0230 - acc: 0.9949 - val_loss: 0.0294 - val_acc: 0.9936\n",
            "\n",
            "Epoch 00038: val_acc did not improve from 0.99470\n",
            "Epoch 39/40\n",
            "\n",
            "Epoch 00039: LearningRateScheduler setting learning rate to 0.0002286237.\n",
            "60000/60000 [==============================] - 8s 130us/step - loss: 0.0237 - acc: 0.9949 - val_loss: 0.0278 - val_acc: 0.9940\n",
            "\n",
            "Epoch 00039: val_acc did not improve from 0.99470\n",
            "Epoch 40/40\n",
            "\n",
            "Epoch 00040: LearningRateScheduler setting learning rate to 0.0002231977.\n",
            "60000/60000 [==============================] - 8s 136us/step - loss: 0.0232 - acc: 0.9950 - val_loss: 0.0299 - val_acc: 0.9928\n",
            "\n",
            "Epoch 00040: val_acc did not improve from 0.99470\n"
          ],
          "name": "stdout"
        },
        {
          "output_type": "execute_result",
          "data": {
            "text/plain": [
              "<keras.callbacks.History at 0x7f847cddb7b8>"
            ]
          },
          "metadata": {
            "tags": []
          },
          "execution_count": 167
        }
      ]
    },
    {
      "cell_type": "code",
      "metadata": {
        "id": "8NApg05jaPX6",
        "colab_type": "code",
        "colab": {}
      },
      "source": [
        "model.load_weights(\"model-021-0.993283-0.994700.h5\")\n",
        "\n",
        "# The network loads the weights of the saved model."
      ],
      "execution_count": 0,
      "outputs": []
    },
    {
      "cell_type": "code",
      "metadata": {
        "id": "AtsH-lLk-eLb",
        "colab_type": "code",
        "outputId": "3a0aa256-80ea-40fc-c5ab-d085c48d061f",
        "colab": {
          "base_uri": "https://localhost:8080/",
          "height": 35
        }
      },
      "source": [
        "score = model.evaluate(X_test, Y_test, verbose=0)\n",
        "print(score)"
      ],
      "execution_count": 0,
      "outputs": [
        {
          "output_type": "stream",
          "text": [
            "[0.028171895031630992, 0.9947]\n"
          ],
          "name": "stdout"
        }
      ]
    },
    {
      "cell_type": "code",
      "metadata": {
        "id": "OCWoJkwE9suh",
        "colab_type": "code",
        "outputId": "4bc056a1-6e26-4f56-c0ba-5a7cef41d0ed",
        "colab": {
          "base_uri": "https://localhost:8080/",
          "height": 87
        }
      },
      "source": [
        "y_pred = model.predict(X_test)\n",
        "y_pred_class = y_pred.argmax(axis=-1)\n",
        "\n",
        "print(y_pred_class[:20])\n",
        "print(y_test[:20])\n",
        "\n",
        "incorrects = np.nonzero(y_pred_class != y_test)\n",
        "print(incorrects[0][:25])\n",
        "\n",
        "# We use the argmax function to display the predicted classes for each test image.\n",
        "# Then we compare this with the fround truth to find the indices of the wrongly classified images in the Test dataset."
      ],
      "execution_count": 0,
      "outputs": [
        {
          "output_type": "stream",
          "text": [
            "[7 2 1 0 4 1 4 9 5 9 0 6 9 0 1 5 9 7 3 4]\n",
            "[7 2 1 0 4 1 4 9 5 9 0 6 9 0 1 5 9 7 3 4]\n",
            "[ 321  449  659  740  947 1014 1039 1226 1232 1247 1260 1299 1530 1621\n",
            " 1709 1737 1901 2035 2130 2135 2293 2462 2488 2597 2654]\n"
          ],
          "name": "stdout"
        }
      ]
    },
    {
      "cell_type": "code",
      "metadata": {
        "id": "bzq9XCutfKk0",
        "colab_type": "code",
        "outputId": "d4ecd669-2aca-47dc-af2f-db00929c0439",
        "colab": {
          "base_uri": "https://localhost:8080/",
          "height": 35
        }
      },
      "source": [
        "X_test = X_test.reshape(X_test.shape[0], 28, 28)\n",
        "print(X_test.shape)\n",
        "\n",
        "# We reshape the X_test into the original mnist dataset shape to display the wrongly classified images."
      ],
      "execution_count": 0,
      "outputs": [
        {
          "output_type": "stream",
          "text": [
            "(10000, 28, 28)\n"
          ],
          "name": "stdout"
        }
      ]
    },
    {
      "cell_type": "code",
      "metadata": {
        "id": "-m95qqb0uxf-",
        "colab_type": "code",
        "outputId": "3cf3dd12-ec27-4fbb-aab3-cdded609ffc4",
        "colab": {
          "base_uri": "https://localhost:8080/",
          "height": 483
        }
      },
      "source": [
        "plt.figure(figsize=(6, 6))\n",
        "\n",
        "for i in range(25):\n",
        "  ax = plt.subplot(5, 5, i+1)\n",
        "  plt.imshow(X_test[incorrects[0][i]])\n",
        "  plt.axis('off')\n",
        "\n",
        "plt.subplots_adjust(wspace=.03, hspace=.03, left=0, right=1, bottom=0, top=1)\n",
        "plt.show()\n",
        "\n",
        "# We use the plot() function of matplotlib to display the first 25 wrongly classified images from the Test dataset."
      ],
      "execution_count": 0,
      "outputs": [
        {
          "output_type": "display_data",
          "data": {
            "image/png": "[encoded data removed]",
            "text/plain": [
              "<Figure size 432x432 with 25 Axes>"
            ]
          },
          "metadata": {
            "tags": []
          }
        }
      ]
    },
    {
      "cell_type": "code",
      "metadata": {
        "id": "CT--y98_dr2T",
        "colab_type": "code",
        "colab": {}
      },
      "source": [
        "layer_dict = dict([(layer.name, layer) for layer in model.layers]) "
      ],
      "execution_count": 0,
      "outputs": []
    },
    {
      "cell_type": "code",
      "metadata": {
        "id": "2GY4Upv4dsUR",
        "colab_type": "code",
        "outputId": "e14250c5-1c03-4bbb-c0df-d2b2c66ff361",
        "colab": {
          "base_uri": "https://localhost:8080/",
          "height": 741
        }
      },
      "source": [
        "import numpy as np\n",
        "from matplotlib import pyplot as plt\n",
        "from keras import backend as K\n",
        "%matplotlib inline\n",
        "# util function to convert a tensor into a valid image\n",
        "def deprocess_image(x):\n",
        "    # normalize tensor: center on 0., ensure std is 0.1\n",
        "    x -= x.mean()\n",
        "    x /= (x.std() + 1e-5)\n",
        "    x *= 0.1\n",
        "\n",
        "    # clip to [0, 1]\n",
        "    x += 0.5\n",
        "    x = np.clip(x, 0, 1)\n",
        "\n",
        "    # convert to RGB array\n",
        "    x *= 255\n",
        "    #x = x.transpose((1, 2, 0))\n",
        "    x = np.clip(x, 0, 255).astype('uint8')\n",
        "    return x\n",
        "\n",
        "def vis_img_in_filter(img = np.array(X_train[2]).reshape((1, 28, 28, 1)).astype(np.float64), \n",
        "                      layer_name = 'conv2d_31'):\n",
        "    layer_output = layer_dict[layer_name].output\n",
        "    img_ascs = list()\n",
        "    for filter_index in range(layer_output.shape[3]):\n",
        "        # build a loss function that maximizes the activation\n",
        "        # of the nth filter of the layer considered\n",
        "        loss = K.mean(layer_output[:, :, :, filter_index])\n",
        "\n",
        "        # compute the gradient of the input picture wrt this loss\n",
        "        grads = K.gradients(loss, model.input)[0]\n",
        "\n",
        "        # normalization trick: we normalize the gradient\n",
        "        grads /= (K.sqrt(K.mean(K.square(grads))) + 1e-5)\n",
        "\n",
        "        # this function returns the loss and grads given the input picture\n",
        "        iterate = K.function([model.input], [loss, grads])\n",
        "\n",
        "        # step size for gradient ascent\n",
        "        step = 5.\n",
        "\n",
        "        img_asc = np.array(img)\n",
        "        # run gradient ascent for 20 steps\n",
        "        for i in range(20):\n",
        "            loss_value, grads_value = iterate([img_asc])\n",
        "            img_asc += grads_value * step\n",
        "\n",
        "        img_asc = img_asc[0]\n",
        "        img_ascs.append(deprocess_image(img_asc).reshape((28, 28)))\n",
        "        \n",
        "    if layer_output.shape[3] >= 35:\n",
        "        plot_x, plot_y = 6, 6\n",
        "    elif layer_output.shape[3] >= 23:\n",
        "        plot_x, plot_y = 4, 6\n",
        "    elif layer_output.shape[3] >= 11:\n",
        "        plot_x, plot_y = 2, 6\n",
        "    else:\n",
        "        plot_x, plot_y = 1, 2\n",
        "    fig, ax = plt.subplots(plot_x, plot_y, figsize = (12, 12))\n",
        "    ax[0, 0].imshow(img.reshape((28, 28)), cmap = 'gray')\n",
        "    ax[0, 0].set_title('Input image')\n",
        "    fig.suptitle('Input image and %s filters' % (layer_name,))\n",
        "    fig.tight_layout(pad = 0.3, rect = [0, 0, 0.9, 0.9])\n",
        "    for (x, y) in [(i, j) for i in range(plot_x) for j in range(plot_y)]:\n",
        "        if x == 0 and y == 0:\n",
        "            continue\n",
        "        ax[x, y].imshow(img_ascs[x * plot_y + y - 1], cmap = 'gray')\n",
        "        ax[x, y].set_title('filter %d' % (x * plot_y + y - 1))\n",
        "\n",
        "vis_img_in_filter()"
      ],
      "execution_count": 0,
      "outputs": [
        {
          "output_type": "display_data",
          "data": {
            "image/png": "[encoded data removed]",
            "text/plain": [
              "<Figure size 864x864 with 12 Axes>"
            ]
          },
          "metadata": {
            "tags": []
          }
        }
      ]
    },
    {
      "cell_type": "markdown",
      "metadata": {
        "id": "DgpzAWtiYxUF",
        "colab_type": "text"
      },
      "source": [
        "Observations\n",
        "\n",
        "In this network , i first added Image normalization and ran the network for 20 epochs and i got an validation accuracy of 99.23. Then i added l2 regularization in each convolution layer, and the validation accuracy increased to 99.34 for 20 epochs itself. Then after changing the order of Batch Normalization and ReLU activations in each layer , the validation accuracy remained the same for 20 epochs. Now i increased the epochs tp 40 , and also added a model checkpoint to save the best model with highest validation accuracy. Now running this network , i got a validation accuracy of 99.47 at the 21st epoch.\n"
      ]
    }
  ]
}